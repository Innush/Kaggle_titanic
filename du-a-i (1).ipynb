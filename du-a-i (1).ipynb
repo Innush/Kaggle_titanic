{
 "cells": [
  {
   "cell_type": "code",
   "execution_count": 1,
   "metadata": {
    "_cell_guid": "b1076dfc-b9ad-4769-8c92-a6c4dae69d19",
    "_uuid": "8f2839f25d086af736a60e9eeb907d3b93b6e0e5",
    "execution": {
     "iopub.execute_input": "2021-01-03T16:12:32.742821Z",
     "iopub.status.busy": "2021-01-03T16:12:32.741931Z",
     "iopub.status.idle": "2021-01-03T16:12:32.748538Z",
     "shell.execute_reply": "2021-01-03T16:12:32.747665Z"
    },
    "papermill": {
     "duration": 0.065104,
     "end_time": "2021-01-03T16:12:32.748661",
     "exception": false,
     "start_time": "2021-01-03T16:12:32.683557",
     "status": "completed"
    },
    "tags": []
   },
   "outputs": [
    {
     "name": "stdout",
     "output_type": "stream",
     "text": [
      "/kaggle/input/titanic/train.csv\n",
      "/kaggle/input/titanic/test.csv\n",
      "/kaggle/input/titanic/gender_submission.csv\n"
     ]
    }
   ],
   "source": [
    "# This Python 3 environment comes with many helpful analytics libraries installed\n",
    "# It is defined by the kaggle/python Docker image: https://github.com/kaggle/docker-python\n",
    "# For example, here's several helpful packages to load\n",
    "\n",
    "import numpy as np # linear algebra\n",
    "import pandas as pd # data processing, CSV file I/O (e.g. pd.read_csv)\n",
    "\n",
    "# Input data files are available in the read-only \"../input/\" directory\n",
    "# For example, running this (by clicking run or pressing Shift+Enter) will list all files under the input directory\n",
    "\n",
    "import os\n",
    "for dirname, _, filenames in os.walk('/kaggle/input'):\n",
    "    for filename in filenames:\n",
    "        print(os.path.join(dirname, filename))\n",
    "\n",
    "# You can write up to 5GB to the current directory (/kaggle/working/) that gets preserved as output when you create a version using \"Save & Run All\" \n",
    "# You can also write temporary files to /kaggle/temp/, but they won't be saved outside of the current session"
   ]
  },
  {
   "cell_type": "code",
   "execution_count": 2,
   "metadata": {
    "_cell_guid": "79c7e3d0-c299-4dcb-8224-4455121ee9b0",
    "_uuid": "d629ff2d2480ee46fbb7e2d37f6b5fab8052498a",
    "execution": {
     "iopub.execute_input": "2021-01-03T16:12:32.860813Z",
     "iopub.status.busy": "2021-01-03T16:12:32.859972Z",
     "iopub.status.idle": "2021-01-03T16:12:34.173643Z",
     "shell.execute_reply": "2021-01-03T16:12:34.174342Z"
    },
    "papermill": {
     "duration": 1.37241,
     "end_time": "2021-01-03T16:12:34.174515",
     "exception": false,
     "start_time": "2021-01-03T16:12:32.802105",
     "status": "completed"
    },
    "tags": []
   },
   "outputs": [],
   "source": [
    "import seaborn as sns\n",
    "import matplotlib.pyplot as plt"
   ]
  },
  {
   "cell_type": "code",
   "execution_count": 3,
   "metadata": {
    "execution": {
     "iopub.execute_input": "2021-01-03T16:12:34.282978Z",
     "iopub.status.busy": "2021-01-03T16:12:34.282173Z",
     "iopub.status.idle": "2021-01-03T16:12:34.312570Z",
     "shell.execute_reply": "2021-01-03T16:12:34.313270Z"
    },
    "papermill": {
     "duration": 0.086388,
     "end_time": "2021-01-03T16:12:34.313437",
     "exception": false,
     "start_time": "2021-01-03T16:12:34.227049",
     "status": "completed"
    },
    "tags": []
   },
   "outputs": [
    {
     "data": {
      "text/plain": [
       "(891, 12)"
      ]
     },
     "execution_count": 3,
     "metadata": {},
     "output_type": "execute_result"
    }
   ],
   "source": [
    "df_train = pd.read_csv('/kaggle/input/titanic/train.csv')\n",
    "df_test = pd.read_csv('/kaggle/input/titanic/test.csv')\n",
    "\n",
    "# for preparing the CSV file \n",
    "dataset_gd = df_test\n",
    "\n",
    "\n",
    "df_train.shape"
   ]
  },
  {
   "cell_type": "code",
   "execution_count": 4,
   "metadata": {
    "execution": {
     "iopub.execute_input": "2021-01-03T16:12:34.424638Z",
     "iopub.status.busy": "2021-01-03T16:12:34.423824Z",
     "iopub.status.idle": "2021-01-03T16:12:34.454075Z",
     "shell.execute_reply": "2021-01-03T16:12:34.454703Z"
    },
    "papermill": {
     "duration": 0.087963,
     "end_time": "2021-01-03T16:12:34.454893",
     "exception": false,
     "start_time": "2021-01-03T16:12:34.366930",
     "status": "completed"
    },
    "tags": []
   },
   "outputs": [
    {
     "data": {
      "text/html": [
       "<div>\n",
       "<style scoped>\n",
       "    .dataframe tbody tr th:only-of-type {\n",
       "        vertical-align: middle;\n",
       "    }\n",
       "\n",
       "    .dataframe tbody tr th {\n",
       "        vertical-align: top;\n",
       "    }\n",
       "\n",
       "    .dataframe thead th {\n",
       "        text-align: right;\n",
       "    }\n",
       "</style>\n",
       "<table border=\"1\" class=\"dataframe\">\n",
       "  <thead>\n",
       "    <tr style=\"text-align: right;\">\n",
       "      <th></th>\n",
       "      <th>PassengerId</th>\n",
       "      <th>Survived</th>\n",
       "      <th>Pclass</th>\n",
       "      <th>Name</th>\n",
       "      <th>Sex</th>\n",
       "      <th>Age</th>\n",
       "      <th>SibSp</th>\n",
       "      <th>Parch</th>\n",
       "      <th>Ticket</th>\n",
       "      <th>Fare</th>\n",
       "      <th>Cabin</th>\n",
       "      <th>Embarked</th>\n",
       "    </tr>\n",
       "  </thead>\n",
       "  <tbody>\n",
       "    <tr>\n",
       "      <th>0</th>\n",
       "      <td>1</td>\n",
       "      <td>0</td>\n",
       "      <td>3</td>\n",
       "      <td>Braund, Mr. Owen Harris</td>\n",
       "      <td>male</td>\n",
       "      <td>22.0</td>\n",
       "      <td>1</td>\n",
       "      <td>0</td>\n",
       "      <td>A/5 21171</td>\n",
       "      <td>7.2500</td>\n",
       "      <td>NaN</td>\n",
       "      <td>S</td>\n",
       "    </tr>\n",
       "    <tr>\n",
       "      <th>1</th>\n",
       "      <td>2</td>\n",
       "      <td>1</td>\n",
       "      <td>1</td>\n",
       "      <td>Cumings, Mrs. John Bradley (Florence Briggs Th...</td>\n",
       "      <td>female</td>\n",
       "      <td>38.0</td>\n",
       "      <td>1</td>\n",
       "      <td>0</td>\n",
       "      <td>PC 17599</td>\n",
       "      <td>71.2833</td>\n",
       "      <td>C85</td>\n",
       "      <td>C</td>\n",
       "    </tr>\n",
       "    <tr>\n",
       "      <th>2</th>\n",
       "      <td>3</td>\n",
       "      <td>1</td>\n",
       "      <td>3</td>\n",
       "      <td>Heikkinen, Miss. Laina</td>\n",
       "      <td>female</td>\n",
       "      <td>26.0</td>\n",
       "      <td>0</td>\n",
       "      <td>0</td>\n",
       "      <td>STON/O2. 3101282</td>\n",
       "      <td>7.9250</td>\n",
       "      <td>NaN</td>\n",
       "      <td>S</td>\n",
       "    </tr>\n",
       "    <tr>\n",
       "      <th>3</th>\n",
       "      <td>4</td>\n",
       "      <td>1</td>\n",
       "      <td>1</td>\n",
       "      <td>Futrelle, Mrs. Jacques Heath (Lily May Peel)</td>\n",
       "      <td>female</td>\n",
       "      <td>35.0</td>\n",
       "      <td>1</td>\n",
       "      <td>0</td>\n",
       "      <td>113803</td>\n",
       "      <td>53.1000</td>\n",
       "      <td>C123</td>\n",
       "      <td>S</td>\n",
       "    </tr>\n",
       "    <tr>\n",
       "      <th>4</th>\n",
       "      <td>5</td>\n",
       "      <td>0</td>\n",
       "      <td>3</td>\n",
       "      <td>Allen, Mr. William Henry</td>\n",
       "      <td>male</td>\n",
       "      <td>35.0</td>\n",
       "      <td>0</td>\n",
       "      <td>0</td>\n",
       "      <td>373450</td>\n",
       "      <td>8.0500</td>\n",
       "      <td>NaN</td>\n",
       "      <td>S</td>\n",
       "    </tr>\n",
       "    <tr>\n",
       "      <th>5</th>\n",
       "      <td>6</td>\n",
       "      <td>0</td>\n",
       "      <td>3</td>\n",
       "      <td>Moran, Mr. James</td>\n",
       "      <td>male</td>\n",
       "      <td>NaN</td>\n",
       "      <td>0</td>\n",
       "      <td>0</td>\n",
       "      <td>330877</td>\n",
       "      <td>8.4583</td>\n",
       "      <td>NaN</td>\n",
       "      <td>Q</td>\n",
       "    </tr>\n",
       "    <tr>\n",
       "      <th>6</th>\n",
       "      <td>7</td>\n",
       "      <td>0</td>\n",
       "      <td>1</td>\n",
       "      <td>McCarthy, Mr. Timothy J</td>\n",
       "      <td>male</td>\n",
       "      <td>54.0</td>\n",
       "      <td>0</td>\n",
       "      <td>0</td>\n",
       "      <td>17463</td>\n",
       "      <td>51.8625</td>\n",
       "      <td>E46</td>\n",
       "      <td>S</td>\n",
       "    </tr>\n",
       "    <tr>\n",
       "      <th>7</th>\n",
       "      <td>8</td>\n",
       "      <td>0</td>\n",
       "      <td>3</td>\n",
       "      <td>Palsson, Master. Gosta Leonard</td>\n",
       "      <td>male</td>\n",
       "      <td>2.0</td>\n",
       "      <td>3</td>\n",
       "      <td>1</td>\n",
       "      <td>349909</td>\n",
       "      <td>21.0750</td>\n",
       "      <td>NaN</td>\n",
       "      <td>S</td>\n",
       "    </tr>\n",
       "    <tr>\n",
       "      <th>8</th>\n",
       "      <td>9</td>\n",
       "      <td>1</td>\n",
       "      <td>3</td>\n",
       "      <td>Johnson, Mrs. Oscar W (Elisabeth Vilhelmina Berg)</td>\n",
       "      <td>female</td>\n",
       "      <td>27.0</td>\n",
       "      <td>0</td>\n",
       "      <td>2</td>\n",
       "      <td>347742</td>\n",
       "      <td>11.1333</td>\n",
       "      <td>NaN</td>\n",
       "      <td>S</td>\n",
       "    </tr>\n",
       "    <tr>\n",
       "      <th>9</th>\n",
       "      <td>10</td>\n",
       "      <td>1</td>\n",
       "      <td>2</td>\n",
       "      <td>Nasser, Mrs. Nicholas (Adele Achem)</td>\n",
       "      <td>female</td>\n",
       "      <td>14.0</td>\n",
       "      <td>1</td>\n",
       "      <td>0</td>\n",
       "      <td>237736</td>\n",
       "      <td>30.0708</td>\n",
       "      <td>NaN</td>\n",
       "      <td>C</td>\n",
       "    </tr>\n",
       "  </tbody>\n",
       "</table>\n",
       "</div>"
      ],
      "text/plain": [
       "   PassengerId  Survived  Pclass  \\\n",
       "0            1         0       3   \n",
       "1            2         1       1   \n",
       "2            3         1       3   \n",
       "3            4         1       1   \n",
       "4            5         0       3   \n",
       "5            6         0       3   \n",
       "6            7         0       1   \n",
       "7            8         0       3   \n",
       "8            9         1       3   \n",
       "9           10         1       2   \n",
       "\n",
       "                                                Name     Sex   Age  SibSp  \\\n",
       "0                            Braund, Mr. Owen Harris    male  22.0      1   \n",
       "1  Cumings, Mrs. John Bradley (Florence Briggs Th...  female  38.0      1   \n",
       "2                             Heikkinen, Miss. Laina  female  26.0      0   \n",
       "3       Futrelle, Mrs. Jacques Heath (Lily May Peel)  female  35.0      1   \n",
       "4                           Allen, Mr. William Henry    male  35.0      0   \n",
       "5                                   Moran, Mr. James    male   NaN      0   \n",
       "6                            McCarthy, Mr. Timothy J    male  54.0      0   \n",
       "7                     Palsson, Master. Gosta Leonard    male   2.0      3   \n",
       "8  Johnson, Mrs. Oscar W (Elisabeth Vilhelmina Berg)  female  27.0      0   \n",
       "9                Nasser, Mrs. Nicholas (Adele Achem)  female  14.0      1   \n",
       "\n",
       "   Parch            Ticket     Fare Cabin Embarked  \n",
       "0      0         A/5 21171   7.2500   NaN        S  \n",
       "1      0          PC 17599  71.2833   C85        C  \n",
       "2      0  STON/O2. 3101282   7.9250   NaN        S  \n",
       "3      0            113803  53.1000  C123        S  \n",
       "4      0            373450   8.0500   NaN        S  \n",
       "5      0            330877   8.4583   NaN        Q  \n",
       "6      0             17463  51.8625   E46        S  \n",
       "7      1            349909  21.0750   NaN        S  \n",
       "8      2            347742  11.1333   NaN        S  \n",
       "9      0            237736  30.0708   NaN        C  "
      ]
     },
     "execution_count": 4,
     "metadata": {},
     "output_type": "execute_result"
    }
   ],
   "source": [
    "df_train.head(10)"
   ]
  },
  {
   "cell_type": "code",
   "execution_count": 5,
   "metadata": {
    "execution": {
     "iopub.execute_input": "2021-01-03T16:12:34.580557Z",
     "iopub.status.busy": "2021-01-03T16:12:34.579854Z",
     "iopub.status.idle": "2021-01-03T16:12:34.585908Z",
     "shell.execute_reply": "2021-01-03T16:12:34.585282Z"
    },
    "papermill": {
     "duration": 0.077061,
     "end_time": "2021-01-03T16:12:34.586025",
     "exception": false,
     "start_time": "2021-01-03T16:12:34.508964",
     "status": "completed"
    },
    "tags": []
   },
   "outputs": [
    {
     "data": {
      "text/html": [
       "<div>\n",
       "<style scoped>\n",
       "    .dataframe tbody tr th:only-of-type {\n",
       "        vertical-align: middle;\n",
       "    }\n",
       "\n",
       "    .dataframe tbody tr th {\n",
       "        vertical-align: top;\n",
       "    }\n",
       "\n",
       "    .dataframe thead th {\n",
       "        text-align: right;\n",
       "    }\n",
       "</style>\n",
       "<table border=\"1\" class=\"dataframe\">\n",
       "  <thead>\n",
       "    <tr style=\"text-align: right;\">\n",
       "      <th></th>\n",
       "      <th>PassengerId</th>\n",
       "      <th>Pclass</th>\n",
       "      <th>Name</th>\n",
       "      <th>Sex</th>\n",
       "      <th>Age</th>\n",
       "      <th>SibSp</th>\n",
       "      <th>Parch</th>\n",
       "      <th>Ticket</th>\n",
       "      <th>Fare</th>\n",
       "      <th>Cabin</th>\n",
       "      <th>Embarked</th>\n",
       "    </tr>\n",
       "  </thead>\n",
       "  <tbody>\n",
       "    <tr>\n",
       "      <th>0</th>\n",
       "      <td>892</td>\n",
       "      <td>3</td>\n",
       "      <td>Kelly, Mr. James</td>\n",
       "      <td>male</td>\n",
       "      <td>34.5</td>\n",
       "      <td>0</td>\n",
       "      <td>0</td>\n",
       "      <td>330911</td>\n",
       "      <td>7.8292</td>\n",
       "      <td>NaN</td>\n",
       "      <td>Q</td>\n",
       "    </tr>\n",
       "    <tr>\n",
       "      <th>1</th>\n",
       "      <td>893</td>\n",
       "      <td>3</td>\n",
       "      <td>Wilkes, Mrs. James (Ellen Needs)</td>\n",
       "      <td>female</td>\n",
       "      <td>47.0</td>\n",
       "      <td>1</td>\n",
       "      <td>0</td>\n",
       "      <td>363272</td>\n",
       "      <td>7.0000</td>\n",
       "      <td>NaN</td>\n",
       "      <td>S</td>\n",
       "    </tr>\n",
       "    <tr>\n",
       "      <th>2</th>\n",
       "      <td>894</td>\n",
       "      <td>2</td>\n",
       "      <td>Myles, Mr. Thomas Francis</td>\n",
       "      <td>male</td>\n",
       "      <td>62.0</td>\n",
       "      <td>0</td>\n",
       "      <td>0</td>\n",
       "      <td>240276</td>\n",
       "      <td>9.6875</td>\n",
       "      <td>NaN</td>\n",
       "      <td>Q</td>\n",
       "    </tr>\n",
       "    <tr>\n",
       "      <th>3</th>\n",
       "      <td>895</td>\n",
       "      <td>3</td>\n",
       "      <td>Wirz, Mr. Albert</td>\n",
       "      <td>male</td>\n",
       "      <td>27.0</td>\n",
       "      <td>0</td>\n",
       "      <td>0</td>\n",
       "      <td>315154</td>\n",
       "      <td>8.6625</td>\n",
       "      <td>NaN</td>\n",
       "      <td>S</td>\n",
       "    </tr>\n",
       "    <tr>\n",
       "      <th>4</th>\n",
       "      <td>896</td>\n",
       "      <td>3</td>\n",
       "      <td>Hirvonen, Mrs. Alexander (Helga E Lindqvist)</td>\n",
       "      <td>female</td>\n",
       "      <td>22.0</td>\n",
       "      <td>1</td>\n",
       "      <td>1</td>\n",
       "      <td>3101298</td>\n",
       "      <td>12.2875</td>\n",
       "      <td>NaN</td>\n",
       "      <td>S</td>\n",
       "    </tr>\n",
       "  </tbody>\n",
       "</table>\n",
       "</div>"
      ],
      "text/plain": [
       "   PassengerId  Pclass                                          Name     Sex  \\\n",
       "0          892       3                              Kelly, Mr. James    male   \n",
       "1          893       3              Wilkes, Mrs. James (Ellen Needs)  female   \n",
       "2          894       2                     Myles, Mr. Thomas Francis    male   \n",
       "3          895       3                              Wirz, Mr. Albert    male   \n",
       "4          896       3  Hirvonen, Mrs. Alexander (Helga E Lindqvist)  female   \n",
       "\n",
       "    Age  SibSp  Parch   Ticket     Fare Cabin Embarked  \n",
       "0  34.5      0      0   330911   7.8292   NaN        Q  \n",
       "1  47.0      1      0   363272   7.0000   NaN        S  \n",
       "2  62.0      0      0   240276   9.6875   NaN        Q  \n",
       "3  27.0      0      0   315154   8.6625   NaN        S  \n",
       "4  22.0      1      1  3101298  12.2875   NaN        S  "
      ]
     },
     "execution_count": 5,
     "metadata": {},
     "output_type": "execute_result"
    }
   ],
   "source": [
    "df_test.head()"
   ]
  },
  {
   "cell_type": "code",
   "execution_count": 6,
   "metadata": {
    "execution": {
     "iopub.execute_input": "2021-01-03T16:12:34.667139Z",
     "iopub.status.busy": "2021-01-03T16:12:34.665992Z",
     "iopub.status.idle": "2021-01-03T16:12:34.671450Z",
     "shell.execute_reply": "2021-01-03T16:12:34.672293Z"
    },
    "papermill": {
     "duration": 0.049457,
     "end_time": "2021-01-03T16:12:34.672495",
     "exception": false,
     "start_time": "2021-01-03T16:12:34.623038",
     "status": "completed"
    },
    "tags": []
   },
   "outputs": [
    {
     "name": "stdout",
     "output_type": "stream",
     "text": [
      "Columns with missing values: \n",
      "['Age', 'Cabin', 'Embarked']\n"
     ]
    }
   ],
   "source": [
    "#Find columns with Nans in them\n",
    "print(\"Columns with missing values: \")\n",
    "print(df_train.columns[df_train.isnull().any()].tolist())"
   ]
  },
  {
   "cell_type": "code",
   "execution_count": 7,
   "metadata": {
    "execution": {
     "iopub.execute_input": "2021-01-03T16:12:34.792872Z",
     "iopub.status.busy": "2021-01-03T16:12:34.792079Z",
     "iopub.status.idle": "2021-01-03T16:12:34.795882Z",
     "shell.execute_reply": "2021-01-03T16:12:34.795094Z"
    },
    "papermill": {
     "duration": 0.066822,
     "end_time": "2021-01-03T16:12:34.796002",
     "exception": false,
     "start_time": "2021-01-03T16:12:34.729180",
     "status": "completed"
    },
    "tags": []
   },
   "outputs": [
    {
     "name": "stdout",
     "output_type": "stream",
     "text": [
      "PassengerId      0\n",
      "Survived         0\n",
      "Pclass           0\n",
      "Name             0\n",
      "Sex              0\n",
      "Age            177\n",
      "SibSp            0\n",
      "Parch            0\n",
      "Ticket           0\n",
      "Fare             0\n",
      "Cabin          687\n",
      "Embarked         2\n",
      "dtype: int64\n"
     ]
    }
   ],
   "source": [
    "print(df_train.isnull().sum())"
   ]
  },
  {
   "cell_type": "markdown",
   "metadata": {
    "papermill": {
     "duration": 0.055691,
     "end_time": "2021-01-03T16:12:34.907763",
     "exception": false,
     "start_time": "2021-01-03T16:12:34.852072",
     "status": "completed"
    },
    "tags": []
   },
   "source": [
    "There are 3 ways to handle null values\n",
    "\n",
    "1.Remove NaN rows\n",
    "  2.Set NaN to hard coded value\n",
    "  3.Impute NaN values based on other rows  \n",
    "  here, for Embarked we did 1"
   ]
  },
  {
   "cell_type": "code",
   "execution_count": 8,
   "metadata": {
    "execution": {
     "iopub.execute_input": "2021-01-03T16:12:35.030876Z",
     "iopub.status.busy": "2021-01-03T16:12:35.029956Z",
     "iopub.status.idle": "2021-01-03T16:12:35.034576Z",
     "shell.execute_reply": "2021-01-03T16:12:35.033756Z"
    },
    "papermill": {
     "duration": 0.070482,
     "end_time": "2021-01-03T16:12:35.034701",
     "exception": false,
     "start_time": "2021-01-03T16:12:34.964219",
     "status": "completed"
    },
    "tags": []
   },
   "outputs": [
    {
     "name": "stdout",
     "output_type": "stream",
     "text": [
      "Before dropping - 891 rows\n",
      "After dropping - 889 rows\n"
     ]
    }
   ],
   "source": [
    "print(\"Before dropping - \" + str(len(df_train)) + \" rows\")\n",
    "df_train = df_train[~df_train['Embarked'].isna()]\n",
    "print(\"After dropping - \" + str(len(df_train)) + \" rows\")"
   ]
  },
  {
   "cell_type": "markdown",
   "metadata": {
    "papermill": {
     "duration": 0.056705,
     "end_time": "2021-01-03T16:12:35.148492",
     "exception": false,
     "start_time": "2021-01-03T16:12:35.091787",
     "status": "completed"
    },
    "tags": []
   },
   "source": [
    "For Cabin we will do 3. Impute NaN values based on other rows."
   ]
  },
  {
   "cell_type": "code",
   "execution_count": 9,
   "metadata": {
    "execution": {
     "iopub.execute_input": "2021-01-03T16:12:35.272920Z",
     "iopub.status.busy": "2021-01-03T16:12:35.271958Z",
     "iopub.status.idle": "2021-01-03T16:12:35.276074Z",
     "shell.execute_reply": "2021-01-03T16:12:35.275254Z"
    },
    "papermill": {
     "duration": 0.069905,
     "end_time": "2021-01-03T16:12:35.276198",
     "exception": false,
     "start_time": "2021-01-03T16:12:35.206293",
     "status": "completed"
    },
    "tags": []
   },
   "outputs": [
    {
     "data": {
      "text/plain": [
       "G6             4\n",
       "C23 C25 C27    4\n",
       "B96 B98        4\n",
       "F2             3\n",
       "D              3\n",
       "              ..\n",
       "A26            1\n",
       "A19            1\n",
       "B39            1\n",
       "D49            1\n",
       "E40            1\n",
       "Name: Cabin, Length: 146, dtype: int64"
      ]
     },
     "execution_count": 9,
     "metadata": {},
     "output_type": "execute_result"
    }
   ],
   "source": [
    "df_train['Cabin'].value_counts()"
   ]
  },
  {
   "cell_type": "code",
   "execution_count": 10,
   "metadata": {
    "execution": {
     "iopub.execute_input": "2021-01-03T16:12:35.405771Z",
     "iopub.status.busy": "2021-01-03T16:12:35.404876Z",
     "iopub.status.idle": "2021-01-03T16:12:35.412366Z",
     "shell.execute_reply": "2021-01-03T16:12:35.412881Z"
    },
    "papermill": {
     "duration": 0.078147,
     "end_time": "2021-01-03T16:12:35.413033",
     "exception": false,
     "start_time": "2021-01-03T16:12:35.334886",
     "status": "completed"
    },
    "tags": []
   },
   "outputs": [
    {
     "name": "stdout",
     "output_type": "stream",
     "text": [
      "Most Frequent Cabin = G6\n",
      "NA count before fill = 687\n",
      "NA count after fill = 0\n"
     ]
    }
   ],
   "source": [
    "most_frequent_cabin = df_train['Cabin'].value_counts().idxmax()\n",
    "print(\"Most Frequent Cabin = \" + most_frequent_cabin)\n",
    "print(\"NA count before fill = \" + str(len(df_train[df_train['Cabin'].isna()])))\n",
    "df_train['Cabin'] = df_train['Cabin'].fillna(most_frequent_cabin)\n",
    "print(\"NA count after fill = \" + str(len(df_train[df_train['Cabin'].isna()])))"
   ]
  },
  {
   "cell_type": "markdown",
   "metadata": {
    "papermill": {
     "duration": 0.038322,
     "end_time": "2021-01-03T16:12:35.491124",
     "exception": false,
     "start_time": "2021-01-03T16:12:35.452802",
     "status": "completed"
    },
    "tags": []
   },
   "source": [
    "Since Age is numerical, let us impute its value by filling it with the mean age of passengers on the ship."
   ]
  },
  {
   "cell_type": "code",
   "execution_count": 11,
   "metadata": {
    "execution": {
     "iopub.execute_input": "2021-01-03T16:12:35.588310Z",
     "iopub.status.busy": "2021-01-03T16:12:35.587210Z",
     "iopub.status.idle": "2021-01-03T16:12:35.591520Z",
     "shell.execute_reply": "2021-01-03T16:12:35.592569Z"
    },
    "papermill": {
     "duration": 0.063159,
     "end_time": "2021-01-03T16:12:35.592801",
     "exception": false,
     "start_time": "2021-01-03T16:12:35.529642",
     "status": "completed"
    },
    "tags": []
   },
   "outputs": [
    {
     "name": "stdout",
     "output_type": "stream",
     "text": [
      "Mean age of passengers = 29.64209269662921\n",
      "NA count before fill = 177\n",
      "NA count after fill = 0\n"
     ]
    }
   ],
   "source": [
    "mean_age = df_train['Age'].mean()\n",
    "print(\"Mean age of passengers = \" + str(mean_age))\n",
    "print(\"NA count before fill = \" + str(len(df_train[df_train['Age'].isna()])))\n",
    "df_train['Age'] = df_train['Age'].fillna(mean_age)\n",
    "print(\"NA count after fill = \" + str(len(df_train[df_train['Age'].isna()])))"
   ]
  },
  {
   "cell_type": "code",
   "execution_count": 12,
   "metadata": {
    "execution": {
     "iopub.execute_input": "2021-01-03T16:12:35.743681Z",
     "iopub.status.busy": "2021-01-03T16:12:35.742859Z",
     "iopub.status.idle": "2021-01-03T16:12:35.771768Z",
     "shell.execute_reply": "2021-01-03T16:12:35.772630Z"
    },
    "papermill": {
     "duration": 0.104714,
     "end_time": "2021-01-03T16:12:35.772853",
     "exception": false,
     "start_time": "2021-01-03T16:12:35.668139",
     "status": "completed"
    },
    "tags": []
   },
   "outputs": [
    {
     "data": {
      "text/html": [
       "<div>\n",
       "<style scoped>\n",
       "    .dataframe tbody tr th:only-of-type {\n",
       "        vertical-align: middle;\n",
       "    }\n",
       "\n",
       "    .dataframe tbody tr th {\n",
       "        vertical-align: top;\n",
       "    }\n",
       "\n",
       "    .dataframe thead th {\n",
       "        text-align: right;\n",
       "    }\n",
       "</style>\n",
       "<table border=\"1\" class=\"dataframe\">\n",
       "  <thead>\n",
       "    <tr style=\"text-align: right;\">\n",
       "      <th></th>\n",
       "      <th>PassengerId</th>\n",
       "      <th>Survived</th>\n",
       "      <th>Pclass</th>\n",
       "      <th>Age</th>\n",
       "      <th>SibSp</th>\n",
       "      <th>Parch</th>\n",
       "      <th>Fare</th>\n",
       "    </tr>\n",
       "  </thead>\n",
       "  <tbody>\n",
       "    <tr>\n",
       "      <th>count</th>\n",
       "      <td>889.000000</td>\n",
       "      <td>889.000000</td>\n",
       "      <td>889.000000</td>\n",
       "      <td>889.000000</td>\n",
       "      <td>889.000000</td>\n",
       "      <td>889.000000</td>\n",
       "      <td>889.000000</td>\n",
       "    </tr>\n",
       "    <tr>\n",
       "      <th>mean</th>\n",
       "      <td>446.000000</td>\n",
       "      <td>0.382452</td>\n",
       "      <td>2.311586</td>\n",
       "      <td>29.642093</td>\n",
       "      <td>0.524184</td>\n",
       "      <td>0.382452</td>\n",
       "      <td>32.096681</td>\n",
       "    </tr>\n",
       "    <tr>\n",
       "      <th>std</th>\n",
       "      <td>256.998173</td>\n",
       "      <td>0.486260</td>\n",
       "      <td>0.834700</td>\n",
       "      <td>12.968346</td>\n",
       "      <td>1.103705</td>\n",
       "      <td>0.806761</td>\n",
       "      <td>49.697504</td>\n",
       "    </tr>\n",
       "    <tr>\n",
       "      <th>min</th>\n",
       "      <td>1.000000</td>\n",
       "      <td>0.000000</td>\n",
       "      <td>1.000000</td>\n",
       "      <td>0.420000</td>\n",
       "      <td>0.000000</td>\n",
       "      <td>0.000000</td>\n",
       "      <td>0.000000</td>\n",
       "    </tr>\n",
       "    <tr>\n",
       "      <th>25%</th>\n",
       "      <td>224.000000</td>\n",
       "      <td>0.000000</td>\n",
       "      <td>2.000000</td>\n",
       "      <td>22.000000</td>\n",
       "      <td>0.000000</td>\n",
       "      <td>0.000000</td>\n",
       "      <td>7.895800</td>\n",
       "    </tr>\n",
       "    <tr>\n",
       "      <th>50%</th>\n",
       "      <td>446.000000</td>\n",
       "      <td>0.000000</td>\n",
       "      <td>3.000000</td>\n",
       "      <td>29.642093</td>\n",
       "      <td>0.000000</td>\n",
       "      <td>0.000000</td>\n",
       "      <td>14.454200</td>\n",
       "    </tr>\n",
       "    <tr>\n",
       "      <th>75%</th>\n",
       "      <td>668.000000</td>\n",
       "      <td>1.000000</td>\n",
       "      <td>3.000000</td>\n",
       "      <td>35.000000</td>\n",
       "      <td>1.000000</td>\n",
       "      <td>0.000000</td>\n",
       "      <td>31.000000</td>\n",
       "    </tr>\n",
       "    <tr>\n",
       "      <th>max</th>\n",
       "      <td>891.000000</td>\n",
       "      <td>1.000000</td>\n",
       "      <td>3.000000</td>\n",
       "      <td>80.000000</td>\n",
       "      <td>8.000000</td>\n",
       "      <td>6.000000</td>\n",
       "      <td>512.329200</td>\n",
       "    </tr>\n",
       "  </tbody>\n",
       "</table>\n",
       "</div>"
      ],
      "text/plain": [
       "       PassengerId    Survived      Pclass         Age       SibSp  \\\n",
       "count   889.000000  889.000000  889.000000  889.000000  889.000000   \n",
       "mean    446.000000    0.382452    2.311586   29.642093    0.524184   \n",
       "std     256.998173    0.486260    0.834700   12.968346    1.103705   \n",
       "min       1.000000    0.000000    1.000000    0.420000    0.000000   \n",
       "25%     224.000000    0.000000    2.000000   22.000000    0.000000   \n",
       "50%     446.000000    0.000000    3.000000   29.642093    0.000000   \n",
       "75%     668.000000    1.000000    3.000000   35.000000    1.000000   \n",
       "max     891.000000    1.000000    3.000000   80.000000    8.000000   \n",
       "\n",
       "            Parch        Fare  \n",
       "count  889.000000  889.000000  \n",
       "mean     0.382452   32.096681  \n",
       "std      0.806761   49.697504  \n",
       "min      0.000000    0.000000  \n",
       "25%      0.000000    7.895800  \n",
       "50%      0.000000   14.454200  \n",
       "75%      0.000000   31.000000  \n",
       "max      6.000000  512.329200  "
      ]
     },
     "execution_count": 12,
     "metadata": {},
     "output_type": "execute_result"
    }
   ],
   "source": [
    "#statistical distribution\n",
    "df_train.describe()"
   ]
  },
  {
   "cell_type": "code",
   "execution_count": 13,
   "metadata": {
    "execution": {
     "iopub.execute_input": "2021-01-03T16:12:35.863669Z",
     "iopub.status.busy": "2021-01-03T16:12:35.863043Z",
     "iopub.status.idle": "2021-01-03T16:12:36.929919Z",
     "shell.execute_reply": "2021-01-03T16:12:36.930436Z"
    },
    "papermill": {
     "duration": 1.110621,
     "end_time": "2021-01-03T16:12:36.930580",
     "exception": false,
     "start_time": "2021-01-03T16:12:35.819959",
     "status": "completed"
    },
    "tags": []
   },
   "outputs": [
    {
     "data": {
      "image/png": "[encoded data removed]",
      "text/plain": [
       "<Figure size 720x720 with 12 Axes>"
      ]
     },
     "metadata": {
      "needs_background": "light"
     },
     "output_type": "display_data"
    }
   ],
   "source": [
    "hist = df_train.hist(figsize=(10,10),layout=(3,4))"
   ]
  },
  {
   "cell_type": "code",
   "execution_count": 14,
   "metadata": {
    "execution": {
     "iopub.execute_input": "2021-01-03T16:12:37.021567Z",
     "iopub.status.busy": "2021-01-03T16:12:37.020937Z",
     "iopub.status.idle": "2021-01-03T16:12:50.613198Z",
     "shell.execute_reply": "2021-01-03T16:12:50.613700Z"
    },
    "papermill": {
     "duration": 13.64137,
     "end_time": "2021-01-03T16:12:50.613870",
     "exception": false,
     "start_time": "2021-01-03T16:12:36.972500",
     "status": "completed"
    },
    "tags": []
   },
   "outputs": [
    {
     "data": {
      "image/png": "[encoded data removed]",
      "text/plain": [
       "<Figure size 1260x1260 with 56 Axes>"
      ]
     },
     "metadata": {
      "needs_background": "light"
     },
     "output_type": "display_data"
    }
   ],
   "source": [
    "sns.pairplot(df_train)\n",
    "plt.show()"
   ]
  },
  {
   "cell_type": "markdown",
   "metadata": {
    "papermill": {
     "duration": 0.046935,
     "end_time": "2021-01-03T16:12:50.708386",
     "exception": false,
     "start_time": "2021-01-03T16:12:50.661451",
     "status": "completed"
    },
    "tags": []
   },
   "source": [
    "Correlation between data"
   ]
  },
  {
   "cell_type": "code",
   "execution_count": 15,
   "metadata": {
    "execution": {
     "iopub.execute_input": "2021-01-03T16:12:50.814416Z",
     "iopub.status.busy": "2021-01-03T16:12:50.813760Z",
     "iopub.status.idle": "2021-01-03T16:12:51.006636Z",
     "shell.execute_reply": "2021-01-03T16:12:51.007169Z"
    },
    "papermill": {
     "duration": 0.251132,
     "end_time": "2021-01-03T16:12:51.007311",
     "exception": false,
     "start_time": "2021-01-03T16:12:50.756179",
     "status": "completed"
    },
    "tags": []
   },
   "outputs": [
    {
     "data": {
      "text/html": [
       "<style  type=\"text/css\" >\n",
       "#T_871ed14c_4dde_11eb_9ca1_0242ac130202row0_col0,#T_871ed14c_4dde_11eb_9ca1_0242ac130202row1_col1,#T_871ed14c_4dde_11eb_9ca1_0242ac130202row2_col2,#T_871ed14c_4dde_11eb_9ca1_0242ac130202row3_col3,#T_871ed14c_4dde_11eb_9ca1_0242ac130202row4_col4,#T_871ed14c_4dde_11eb_9ca1_0242ac130202row5_col5,#T_871ed14c_4dde_11eb_9ca1_0242ac130202row6_col6{\n",
       "            background-color:  #b40426;\n",
       "            color:  #f1f1f1;\n",
       "        }#T_871ed14c_4dde_11eb_9ca1_0242ac130202row0_col1{\n",
       "            background-color:  #8caffe;\n",
       "            color:  #000000;\n",
       "        }#T_871ed14c_4dde_11eb_9ca1_0242ac130202row0_col2{\n",
       "            background-color:  #a9c6fd;\n",
       "            color:  #000000;\n",
       "        }#T_871ed14c_4dde_11eb_9ca1_0242ac130202row0_col3{\n",
       "            background-color:  #94b6ff;\n",
       "            color:  #000000;\n",
       "        }#T_871ed14c_4dde_11eb_9ca1_0242ac130202row0_col4,#T_871ed14c_4dde_11eb_9ca1_0242ac130202row3_col2{\n",
       "            background-color:  #6788ee;\n",
       "            color:  #000000;\n",
       "        }#T_871ed14c_4dde_11eb_9ca1_0242ac130202row0_col5{\n",
       "            background-color:  #6a8bef;\n",
       "            color:  #000000;\n",
       "        }#T_871ed14c_4dde_11eb_9ca1_0242ac130202row0_col6{\n",
       "            background-color:  #b3cdfb;\n",
       "            color:  #000000;\n",
       "        }#T_871ed14c_4dde_11eb_9ca1_0242ac130202row1_col0{\n",
       "            background-color:  #4961d2;\n",
       "            color:  #f1f1f1;\n",
       "        }#T_871ed14c_4dde_11eb_9ca1_0242ac130202row1_col2{\n",
       "            background-color:  #6687ed;\n",
       "            color:  #000000;\n",
       "        }#T_871ed14c_4dde_11eb_9ca1_0242ac130202row1_col3{\n",
       "            background-color:  #779af7;\n",
       "            color:  #000000;\n",
       "        }#T_871ed14c_4dde_11eb_9ca1_0242ac130202row1_col4{\n",
       "            background-color:  #6e90f2;\n",
       "            color:  #000000;\n",
       "        }#T_871ed14c_4dde_11eb_9ca1_0242ac130202row1_col5{\n",
       "            background-color:  #82a6fb;\n",
       "            color:  #000000;\n",
       "        }#T_871ed14c_4dde_11eb_9ca1_0242ac130202row1_col6{\n",
       "            background-color:  #e1dad6;\n",
       "            color:  #000000;\n",
       "        }#T_871ed14c_4dde_11eb_9ca1_0242ac130202row2_col0{\n",
       "            background-color:  #4055c8;\n",
       "            color:  #f1f1f1;\n",
       "        }#T_871ed14c_4dde_11eb_9ca1_0242ac130202row2_col1,#T_871ed14c_4dde_11eb_9ca1_0242ac130202row2_col3,#T_871ed14c_4dde_11eb_9ca1_0242ac130202row2_col6,#T_871ed14c_4dde_11eb_9ca1_0242ac130202row3_col4,#T_871ed14c_4dde_11eb_9ca1_0242ac130202row3_col5,#T_871ed14c_4dde_11eb_9ca1_0242ac130202row4_col0,#T_871ed14c_4dde_11eb_9ca1_0242ac130202row6_col2{\n",
       "            background-color:  #3b4cc0;\n",
       "            color:  #f1f1f1;\n",
       "        }#T_871ed14c_4dde_11eb_9ca1_0242ac130202row2_col4{\n",
       "            background-color:  #8fb1fe;\n",
       "            color:  #000000;\n",
       "        }#T_871ed14c_4dde_11eb_9ca1_0242ac130202row2_col5{\n",
       "            background-color:  #6f92f3;\n",
       "            color:  #000000;\n",
       "        }#T_871ed14c_4dde_11eb_9ca1_0242ac130202row3_col0{\n",
       "            background-color:  #5470de;\n",
       "            color:  #000000;\n",
       "        }#T_871ed14c_4dde_11eb_9ca1_0242ac130202row3_col1{\n",
       "            background-color:  #7a9df8;\n",
       "            color:  #000000;\n",
       "        }#T_871ed14c_4dde_11eb_9ca1_0242ac130202row3_col6{\n",
       "            background-color:  #c4d5f3;\n",
       "            color:  #000000;\n",
       "        }#T_871ed14c_4dde_11eb_9ca1_0242ac130202row4_col1{\n",
       "            background-color:  #84a7fc;\n",
       "            color:  #000000;\n",
       "        }#T_871ed14c_4dde_11eb_9ca1_0242ac130202row4_col2{\n",
       "            background-color:  #c3d5f4;\n",
       "            color:  #000000;\n",
       "        }#T_871ed14c_4dde_11eb_9ca1_0242ac130202row4_col3{\n",
       "            background-color:  #506bda;\n",
       "            color:  #000000;\n",
       "        }#T_871ed14c_4dde_11eb_9ca1_0242ac130202row4_col5{\n",
       "            background-color:  #dddcdc;\n",
       "            color:  #000000;\n",
       "        }#T_871ed14c_4dde_11eb_9ca1_0242ac130202row4_col6{\n",
       "            background-color:  #d2dbe8;\n",
       "            color:  #000000;\n",
       "        }#T_871ed14c_4dde_11eb_9ca1_0242ac130202row5_col0{\n",
       "            background-color:  #4a63d3;\n",
       "            color:  #f1f1f1;\n",
       "        }#T_871ed14c_4dde_11eb_9ca1_0242ac130202row5_col1,#T_871ed14c_4dde_11eb_9ca1_0242ac130202row6_col3{\n",
       "            background-color:  #a3c2fe;\n",
       "            color:  #000000;\n",
       "        }#T_871ed14c_4dde_11eb_9ca1_0242ac130202row5_col2{\n",
       "            background-color:  #b5cdfa;\n",
       "            color:  #000000;\n",
       "        }#T_871ed14c_4dde_11eb_9ca1_0242ac130202row5_col3{\n",
       "            background-color:  #5d7ce6;\n",
       "            color:  #000000;\n",
       "        }#T_871ed14c_4dde_11eb_9ca1_0242ac130202row5_col4{\n",
       "            background-color:  #e3d9d3;\n",
       "            color:  #000000;\n",
       "        }#T_871ed14c_4dde_11eb_9ca1_0242ac130202row5_col6{\n",
       "            background-color:  #dbdcde;\n",
       "            color:  #000000;\n",
       "        }#T_871ed14c_4dde_11eb_9ca1_0242ac130202row6_col0{\n",
       "            background-color:  #4f69d9;\n",
       "            color:  #000000;\n",
       "        }#T_871ed14c_4dde_11eb_9ca1_0242ac130202row6_col1{\n",
       "            background-color:  #cdd9ec;\n",
       "            color:  #000000;\n",
       "        }#T_871ed14c_4dde_11eb_9ca1_0242ac130202row6_col4{\n",
       "            background-color:  #a5c3fe;\n",
       "            color:  #000000;\n",
       "        }#T_871ed14c_4dde_11eb_9ca1_0242ac130202row6_col5{\n",
       "            background-color:  #aac7fd;\n",
       "            color:  #000000;\n",
       "        }</style><table id=\"T_871ed14c_4dde_11eb_9ca1_0242ac130202\" ><thead>    <tr>        <th class=\"blank level0\" ></th>        <th class=\"col_heading level0 col0\" >PassengerId</th>        <th class=\"col_heading level0 col1\" >Survived</th>        <th class=\"col_heading level0 col2\" >Pclass</th>        <th class=\"col_heading level0 col3\" >Age</th>        <th class=\"col_heading level0 col4\" >SibSp</th>        <th class=\"col_heading level0 col5\" >Parch</th>        <th class=\"col_heading level0 col6\" >Fare</th>    </tr></thead><tbody>\n",
       "                <tr>\n",
       "                        <th id=\"T_871ed14c_4dde_11eb_9ca1_0242ac130202level0_row0\" class=\"row_heading level0 row0\" >PassengerId</th>\n",
       "                        <td id=\"T_871ed14c_4dde_11eb_9ca1_0242ac130202row0_col0\" class=\"data row0 col0\" >1.000000</td>\n",
       "                        <td id=\"T_871ed14c_4dde_11eb_9ca1_0242ac130202row0_col1\" class=\"data row0 col1\" >-0.005028</td>\n",
       "                        <td id=\"T_871ed14c_4dde_11eb_9ca1_0242ac130202row0_col2\" class=\"data row0 col2\" >-0.035330</td>\n",
       "                        <td id=\"T_871ed14c_4dde_11eb_9ca1_0242ac130202row0_col3\" class=\"data row0 col3\" >0.030335</td>\n",
       "                        <td id=\"T_871ed14c_4dde_11eb_9ca1_0242ac130202row0_col4\" class=\"data row0 col4\" >-0.057686</td>\n",
       "                        <td id=\"T_871ed14c_4dde_11eb_9ca1_0242ac130202row0_col5\" class=\"data row0 col5\" >-0.001657</td>\n",
       "                        <td id=\"T_871ed14c_4dde_11eb_9ca1_0242ac130202row0_col6\" class=\"data row0 col6\" >0.012703</td>\n",
       "            </tr>\n",
       "            <tr>\n",
       "                        <th id=\"T_871ed14c_4dde_11eb_9ca1_0242ac130202level0_row1\" class=\"row_heading level0 row1\" >Survived</th>\n",
       "                        <td id=\"T_871ed14c_4dde_11eb_9ca1_0242ac130202row1_col0\" class=\"data row1 col0\" >-0.005028</td>\n",
       "                        <td id=\"T_871ed14c_4dde_11eb_9ca1_0242ac130202row1_col1\" class=\"data row1 col1\" >1.000000</td>\n",
       "                        <td id=\"T_871ed14c_4dde_11eb_9ca1_0242ac130202row1_col2\" class=\"data row1 col2\" >-0.335549</td>\n",
       "                        <td id=\"T_871ed14c_4dde_11eb_9ca1_0242ac130202row1_col3\" class=\"data row1 col3\" >-0.074513</td>\n",
       "                        <td id=\"T_871ed14c_4dde_11eb_9ca1_0242ac130202row1_col4\" class=\"data row1 col4\" >-0.034040</td>\n",
       "                        <td id=\"T_871ed14c_4dde_11eb_9ca1_0242ac130202row1_col5\" class=\"data row1 col5\" >0.083151</td>\n",
       "                        <td id=\"T_871ed14c_4dde_11eb_9ca1_0242ac130202row1_col6\" class=\"data row1 col6\" >0.255290</td>\n",
       "            </tr>\n",
       "            <tr>\n",
       "                        <th id=\"T_871ed14c_4dde_11eb_9ca1_0242ac130202level0_row2\" class=\"row_heading level0 row2\" >Pclass</th>\n",
       "                        <td id=\"T_871ed14c_4dde_11eb_9ca1_0242ac130202row2_col0\" class=\"data row2 col0\" >-0.035330</td>\n",
       "                        <td id=\"T_871ed14c_4dde_11eb_9ca1_0242ac130202row2_col1\" class=\"data row2 col1\" >-0.335549</td>\n",
       "                        <td id=\"T_871ed14c_4dde_11eb_9ca1_0242ac130202row2_col2\" class=\"data row2 col2\" >1.000000</td>\n",
       "                        <td id=\"T_871ed14c_4dde_11eb_9ca1_0242ac130202row2_col3\" class=\"data row2 col3\" >-0.328256</td>\n",
       "                        <td id=\"T_871ed14c_4dde_11eb_9ca1_0242ac130202row2_col4\" class=\"data row2 col4\" >0.081656</td>\n",
       "                        <td id=\"T_871ed14c_4dde_11eb_9ca1_0242ac130202row2_col5\" class=\"data row2 col5\" >0.016824</td>\n",
       "                        <td id=\"T_871ed14c_4dde_11eb_9ca1_0242ac130202row2_col6\" class=\"data row2 col6\" >-0.548193</td>\n",
       "            </tr>\n",
       "            <tr>\n",
       "                        <th id=\"T_871ed14c_4dde_11eb_9ca1_0242ac130202level0_row3\" class=\"row_heading level0 row3\" >Age</th>\n",
       "                        <td id=\"T_871ed14c_4dde_11eb_9ca1_0242ac130202row3_col0\" class=\"data row3 col0\" >0.030335</td>\n",
       "                        <td id=\"T_871ed14c_4dde_11eb_9ca1_0242ac130202row3_col1\" class=\"data row3 col1\" >-0.074513</td>\n",
       "                        <td id=\"T_871ed14c_4dde_11eb_9ca1_0242ac130202row3_col2\" class=\"data row3 col2\" >-0.328256</td>\n",
       "                        <td id=\"T_871ed14c_4dde_11eb_9ca1_0242ac130202row3_col3\" class=\"data row3 col3\" >1.000000</td>\n",
       "                        <td id=\"T_871ed14c_4dde_11eb_9ca1_0242ac130202row3_col4\" class=\"data row3 col4\" >-0.231908</td>\n",
       "                        <td id=\"T_871ed14c_4dde_11eb_9ca1_0242ac130202row3_col5\" class=\"data row3 col5\" >-0.178013</td>\n",
       "                        <td id=\"T_871ed14c_4dde_11eb_9ca1_0242ac130202row3_col6\" class=\"data row3 col6\" >0.088780</td>\n",
       "            </tr>\n",
       "            <tr>\n",
       "                        <th id=\"T_871ed14c_4dde_11eb_9ca1_0242ac130202level0_row4\" class=\"row_heading level0 row4\" >SibSp</th>\n",
       "                        <td id=\"T_871ed14c_4dde_11eb_9ca1_0242ac130202row4_col0\" class=\"data row4 col0\" >-0.057686</td>\n",
       "                        <td id=\"T_871ed14c_4dde_11eb_9ca1_0242ac130202row4_col1\" class=\"data row4 col1\" >-0.034040</td>\n",
       "                        <td id=\"T_871ed14c_4dde_11eb_9ca1_0242ac130202row4_col2\" class=\"data row4 col2\" >0.081656</td>\n",
       "                        <td id=\"T_871ed14c_4dde_11eb_9ca1_0242ac130202row4_col3\" class=\"data row4 col3\" >-0.231908</td>\n",
       "                        <td id=\"T_871ed14c_4dde_11eb_9ca1_0242ac130202row4_col4\" class=\"data row4 col4\" >1.000000</td>\n",
       "                        <td id=\"T_871ed14c_4dde_11eb_9ca1_0242ac130202row4_col5\" class=\"data row4 col5\" >0.414542</td>\n",
       "                        <td id=\"T_871ed14c_4dde_11eb_9ca1_0242ac130202row4_col6\" class=\"data row4 col6\" >0.160887</td>\n",
       "            </tr>\n",
       "            <tr>\n",
       "                        <th id=\"T_871ed14c_4dde_11eb_9ca1_0242ac130202level0_row5\" class=\"row_heading level0 row5\" >Parch</th>\n",
       "                        <td id=\"T_871ed14c_4dde_11eb_9ca1_0242ac130202row5_col0\" class=\"data row5 col0\" >-0.001657</td>\n",
       "                        <td id=\"T_871ed14c_4dde_11eb_9ca1_0242ac130202row5_col1\" class=\"data row5 col1\" >0.083151</td>\n",
       "                        <td id=\"T_871ed14c_4dde_11eb_9ca1_0242ac130202row5_col2\" class=\"data row5 col2\" >0.016824</td>\n",
       "                        <td id=\"T_871ed14c_4dde_11eb_9ca1_0242ac130202row5_col3\" class=\"data row5 col3\" >-0.178013</td>\n",
       "                        <td id=\"T_871ed14c_4dde_11eb_9ca1_0242ac130202row5_col4\" class=\"data row5 col4\" >0.414542</td>\n",
       "                        <td id=\"T_871ed14c_4dde_11eb_9ca1_0242ac130202row5_col5\" class=\"data row5 col5\" >1.000000</td>\n",
       "                        <td id=\"T_871ed14c_4dde_11eb_9ca1_0242ac130202row5_col6\" class=\"data row5 col6\" >0.217532</td>\n",
       "            </tr>\n",
       "            <tr>\n",
       "                        <th id=\"T_871ed14c_4dde_11eb_9ca1_0242ac130202level0_row6\" class=\"row_heading level0 row6\" >Fare</th>\n",
       "                        <td id=\"T_871ed14c_4dde_11eb_9ca1_0242ac130202row6_col0\" class=\"data row6 col0\" >0.012703</td>\n",
       "                        <td id=\"T_871ed14c_4dde_11eb_9ca1_0242ac130202row6_col1\" class=\"data row6 col1\" >0.255290</td>\n",
       "                        <td id=\"T_871ed14c_4dde_11eb_9ca1_0242ac130202row6_col2\" class=\"data row6 col2\" >-0.548193</td>\n",
       "                        <td id=\"T_871ed14c_4dde_11eb_9ca1_0242ac130202row6_col3\" class=\"data row6 col3\" >0.088780</td>\n",
       "                        <td id=\"T_871ed14c_4dde_11eb_9ca1_0242ac130202row6_col4\" class=\"data row6 col4\" >0.160887</td>\n",
       "                        <td id=\"T_871ed14c_4dde_11eb_9ca1_0242ac130202row6_col5\" class=\"data row6 col5\" >0.217532</td>\n",
       "                        <td id=\"T_871ed14c_4dde_11eb_9ca1_0242ac130202row6_col6\" class=\"data row6 col6\" >1.000000</td>\n",
       "            </tr>\n",
       "    </tbody></table>"
      ],
      "text/plain": [
       "<pandas.io.formats.style.Styler at 0x7f3880d6cf90>"
      ]
     },
     "execution_count": 15,
     "metadata": {},
     "output_type": "execute_result"
    }
   ],
   "source": [
    "\n",
    "corr=df_train.corr()\n",
    "\n",
    "corr.style.background_gradient(cmap='coolwarm')\n"
   ]
  },
  {
   "cell_type": "markdown",
   "metadata": {
    "papermill": {
     "duration": 0.0483,
     "end_time": "2021-01-03T16:12:51.105231",
     "exception": false,
     "start_time": "2021-01-03T16:12:51.056931",
     "status": "completed"
    },
    "tags": []
   },
   "source": [
    "Correaltions observed in Titanic:\n",
    "\n",
    "Pclass and Fare\n",
    "Age and Parch\n",
    "Age and SibSp\n",
    "Age and Pclass\n",
    "Pclass and Survived"
   ]
  },
  {
   "cell_type": "code",
   "execution_count": 16,
   "metadata": {
    "execution": {
     "iopub.execute_input": "2021-01-03T16:12:51.212977Z",
     "iopub.status.busy": "2021-01-03T16:12:51.212280Z",
     "iopub.status.idle": "2021-01-03T16:12:51.220592Z",
     "shell.execute_reply": "2021-01-03T16:12:51.221237Z"
    },
    "papermill": {
     "duration": 0.067538,
     "end_time": "2021-01-03T16:12:51.221397",
     "exception": false,
     "start_time": "2021-01-03T16:12:51.153859",
     "status": "completed"
    },
    "tags": []
   },
   "outputs": [
    {
     "data": {
      "text/plain": [
       "count    889.000000\n",
       "mean       0.906637\n",
       "std        1.614703\n",
       "min        0.000000\n",
       "25%        0.000000\n",
       "50%        0.000000\n",
       "75%        1.000000\n",
       "max       10.000000\n",
       "Name: RelativeCount, dtype: float64"
      ]
     },
     "execution_count": 16,
     "metadata": {},
     "output_type": "execute_result"
    }
   ],
   "source": [
    "df_train['RelativeCount'] = df_train['SibSp'] + df_train['Parch']\n",
    "df_train['RelativeCount'].describe()"
   ]
  },
  {
   "cell_type": "code",
   "execution_count": 17,
   "metadata": {
    "execution": {
     "iopub.execute_input": "2021-01-03T16:12:51.327648Z",
     "iopub.status.busy": "2021-01-03T16:12:51.326707Z",
     "iopub.status.idle": "2021-01-03T16:12:51.366973Z",
     "shell.execute_reply": "2021-01-03T16:12:51.366404Z"
    },
    "papermill": {
     "duration": 0.096281,
     "end_time": "2021-01-03T16:12:51.367085",
     "exception": false,
     "start_time": "2021-01-03T16:12:51.270804",
     "status": "completed"
    },
    "tags": []
   },
   "outputs": [
    {
     "data": {
      "text/html": [
       "<style  type=\"text/css\" >\n",
       "#T_87552652_4dde_11eb_9ca1_0242ac130202row0_col0,#T_87552652_4dde_11eb_9ca1_0242ac130202row1_col1,#T_87552652_4dde_11eb_9ca1_0242ac130202row2_col2,#T_87552652_4dde_11eb_9ca1_0242ac130202row3_col3,#T_87552652_4dde_11eb_9ca1_0242ac130202row4_col4,#T_87552652_4dde_11eb_9ca1_0242ac130202row5_col5,#T_87552652_4dde_11eb_9ca1_0242ac130202row6_col6,#T_87552652_4dde_11eb_9ca1_0242ac130202row7_col7{\n",
       "            background-color:  #b40426;\n",
       "            color:  #f1f1f1;\n",
       "        }#T_87552652_4dde_11eb_9ca1_0242ac130202row0_col1,#T_87552652_4dde_11eb_9ca1_0242ac130202row2_col7{\n",
       "            background-color:  #8caffe;\n",
       "            color:  #000000;\n",
       "        }#T_87552652_4dde_11eb_9ca1_0242ac130202row0_col2{\n",
       "            background-color:  #a9c6fd;\n",
       "            color:  #000000;\n",
       "        }#T_87552652_4dde_11eb_9ca1_0242ac130202row0_col3{\n",
       "            background-color:  #94b6ff;\n",
       "            color:  #000000;\n",
       "        }#T_87552652_4dde_11eb_9ca1_0242ac130202row0_col4,#T_87552652_4dde_11eb_9ca1_0242ac130202row3_col2{\n",
       "            background-color:  #6788ee;\n",
       "            color:  #000000;\n",
       "        }#T_87552652_4dde_11eb_9ca1_0242ac130202row0_col5{\n",
       "            background-color:  #6a8bef;\n",
       "            color:  #000000;\n",
       "        }#T_87552652_4dde_11eb_9ca1_0242ac130202row0_col6{\n",
       "            background-color:  #b3cdfb;\n",
       "            color:  #000000;\n",
       "        }#T_87552652_4dde_11eb_9ca1_0242ac130202row0_col7,#T_87552652_4dde_11eb_9ca1_0242ac130202row2_col5{\n",
       "            background-color:  #6f92f3;\n",
       "            color:  #000000;\n",
       "        }#T_87552652_4dde_11eb_9ca1_0242ac130202row1_col0{\n",
       "            background-color:  #4961d2;\n",
       "            color:  #f1f1f1;\n",
       "        }#T_87552652_4dde_11eb_9ca1_0242ac130202row1_col2{\n",
       "            background-color:  #6687ed;\n",
       "            color:  #000000;\n",
       "        }#T_87552652_4dde_11eb_9ca1_0242ac130202row1_col3{\n",
       "            background-color:  #779af7;\n",
       "            color:  #000000;\n",
       "        }#T_87552652_4dde_11eb_9ca1_0242ac130202row1_col4{\n",
       "            background-color:  #6e90f2;\n",
       "            color:  #000000;\n",
       "        }#T_87552652_4dde_11eb_9ca1_0242ac130202row1_col5{\n",
       "            background-color:  #82a6fb;\n",
       "            color:  #000000;\n",
       "        }#T_87552652_4dde_11eb_9ca1_0242ac130202row1_col6{\n",
       "            background-color:  #e1dad6;\n",
       "            color:  #000000;\n",
       "        }#T_87552652_4dde_11eb_9ca1_0242ac130202row1_col7{\n",
       "            background-color:  #80a3fa;\n",
       "            color:  #000000;\n",
       "        }#T_87552652_4dde_11eb_9ca1_0242ac130202row2_col0{\n",
       "            background-color:  #4055c8;\n",
       "            color:  #f1f1f1;\n",
       "        }#T_87552652_4dde_11eb_9ca1_0242ac130202row2_col1,#T_87552652_4dde_11eb_9ca1_0242ac130202row2_col3,#T_87552652_4dde_11eb_9ca1_0242ac130202row2_col6,#T_87552652_4dde_11eb_9ca1_0242ac130202row3_col4,#T_87552652_4dde_11eb_9ca1_0242ac130202row3_col5,#T_87552652_4dde_11eb_9ca1_0242ac130202row3_col7,#T_87552652_4dde_11eb_9ca1_0242ac130202row4_col0,#T_87552652_4dde_11eb_9ca1_0242ac130202row6_col2{\n",
       "            background-color:  #3b4cc0;\n",
       "            color:  #f1f1f1;\n",
       "        }#T_87552652_4dde_11eb_9ca1_0242ac130202row2_col4{\n",
       "            background-color:  #8fb1fe;\n",
       "            color:  #000000;\n",
       "        }#T_87552652_4dde_11eb_9ca1_0242ac130202row3_col0{\n",
       "            background-color:  #5470de;\n",
       "            color:  #000000;\n",
       "        }#T_87552652_4dde_11eb_9ca1_0242ac130202row3_col1{\n",
       "            background-color:  #7a9df8;\n",
       "            color:  #000000;\n",
       "        }#T_87552652_4dde_11eb_9ca1_0242ac130202row3_col6{\n",
       "            background-color:  #c4d5f3;\n",
       "            color:  #000000;\n",
       "        }#T_87552652_4dde_11eb_9ca1_0242ac130202row4_col1{\n",
       "            background-color:  #84a7fc;\n",
       "            color:  #000000;\n",
       "        }#T_87552652_4dde_11eb_9ca1_0242ac130202row4_col2{\n",
       "            background-color:  #c3d5f4;\n",
       "            color:  #000000;\n",
       "        }#T_87552652_4dde_11eb_9ca1_0242ac130202row4_col3{\n",
       "            background-color:  #506bda;\n",
       "            color:  #000000;\n",
       "        }#T_87552652_4dde_11eb_9ca1_0242ac130202row4_col5{\n",
       "            background-color:  #dddcdc;\n",
       "            color:  #000000;\n",
       "        }#T_87552652_4dde_11eb_9ca1_0242ac130202row4_col6{\n",
       "            background-color:  #d2dbe8;\n",
       "            color:  #000000;\n",
       "        }#T_87552652_4dde_11eb_9ca1_0242ac130202row4_col7,#T_87552652_4dde_11eb_9ca1_0242ac130202row7_col4{\n",
       "            background-color:  #d24b40;\n",
       "            color:  #f1f1f1;\n",
       "        }#T_87552652_4dde_11eb_9ca1_0242ac130202row5_col0{\n",
       "            background-color:  #4a63d3;\n",
       "            color:  #f1f1f1;\n",
       "        }#T_87552652_4dde_11eb_9ca1_0242ac130202row5_col1,#T_87552652_4dde_11eb_9ca1_0242ac130202row6_col3{\n",
       "            background-color:  #a3c2fe;\n",
       "            color:  #000000;\n",
       "        }#T_87552652_4dde_11eb_9ca1_0242ac130202row5_col2{\n",
       "            background-color:  #b5cdfa;\n",
       "            color:  #000000;\n",
       "        }#T_87552652_4dde_11eb_9ca1_0242ac130202row5_col3{\n",
       "            background-color:  #5d7ce6;\n",
       "            color:  #000000;\n",
       "        }#T_87552652_4dde_11eb_9ca1_0242ac130202row5_col4{\n",
       "            background-color:  #e3d9d3;\n",
       "            color:  #000000;\n",
       "        }#T_87552652_4dde_11eb_9ca1_0242ac130202row5_col6,#T_87552652_4dde_11eb_9ca1_0242ac130202row7_col6{\n",
       "            background-color:  #dbdcde;\n",
       "            color:  #000000;\n",
       "        }#T_87552652_4dde_11eb_9ca1_0242ac130202row5_col7{\n",
       "            background-color:  #e9785d;\n",
       "            color:  #000000;\n",
       "        }#T_87552652_4dde_11eb_9ca1_0242ac130202row6_col0{\n",
       "            background-color:  #4f69d9;\n",
       "            color:  #000000;\n",
       "        }#T_87552652_4dde_11eb_9ca1_0242ac130202row6_col1{\n",
       "            background-color:  #cdd9ec;\n",
       "            color:  #000000;\n",
       "        }#T_87552652_4dde_11eb_9ca1_0242ac130202row6_col4{\n",
       "            background-color:  #a5c3fe;\n",
       "            color:  #000000;\n",
       "        }#T_87552652_4dde_11eb_9ca1_0242ac130202row6_col5{\n",
       "            background-color:  #aac7fd;\n",
       "            color:  #000000;\n",
       "        }#T_87552652_4dde_11eb_9ca1_0242ac130202row6_col7{\n",
       "            background-color:  #b7cff9;\n",
       "            color:  #000000;\n",
       "        }#T_87552652_4dde_11eb_9ca1_0242ac130202row7_col0{\n",
       "            background-color:  #3f53c6;\n",
       "            color:  #f1f1f1;\n",
       "        }#T_87552652_4dde_11eb_9ca1_0242ac130202row7_col1{\n",
       "            background-color:  #92b4fe;\n",
       "            color:  #000000;\n",
       "        }#T_87552652_4dde_11eb_9ca1_0242ac130202row7_col2{\n",
       "            background-color:  #bfd3f6;\n",
       "            color:  #000000;\n",
       "        }#T_87552652_4dde_11eb_9ca1_0242ac130202row7_col3{\n",
       "            background-color:  #4c66d6;\n",
       "            color:  #000000;\n",
       "        }#T_87552652_4dde_11eb_9ca1_0242ac130202row7_col5{\n",
       "            background-color:  #eb7d62;\n",
       "            color:  #000000;\n",
       "        }</style><table id=\"T_87552652_4dde_11eb_9ca1_0242ac130202\" ><thead>    <tr>        <th class=\"blank level0\" ></th>        <th class=\"col_heading level0 col0\" >PassengerId</th>        <th class=\"col_heading level0 col1\" >Survived</th>        <th class=\"col_heading level0 col2\" >Pclass</th>        <th class=\"col_heading level0 col3\" >Age</th>        <th class=\"col_heading level0 col4\" >SibSp</th>        <th class=\"col_heading level0 col5\" >Parch</th>        <th class=\"col_heading level0 col6\" >Fare</th>        <th class=\"col_heading level0 col7\" >RelativeCount</th>    </tr></thead><tbody>\n",
       "                <tr>\n",
       "                        <th id=\"T_87552652_4dde_11eb_9ca1_0242ac130202level0_row0\" class=\"row_heading level0 row0\" >PassengerId</th>\n",
       "                        <td id=\"T_87552652_4dde_11eb_9ca1_0242ac130202row0_col0\" class=\"data row0 col0\" >1.000000</td>\n",
       "                        <td id=\"T_87552652_4dde_11eb_9ca1_0242ac130202row0_col1\" class=\"data row0 col1\" >-0.005028</td>\n",
       "                        <td id=\"T_87552652_4dde_11eb_9ca1_0242ac130202row0_col2\" class=\"data row0 col2\" >-0.035330</td>\n",
       "                        <td id=\"T_87552652_4dde_11eb_9ca1_0242ac130202row0_col3\" class=\"data row0 col3\" >0.030335</td>\n",
       "                        <td id=\"T_87552652_4dde_11eb_9ca1_0242ac130202row0_col4\" class=\"data row0 col4\" >-0.057686</td>\n",
       "                        <td id=\"T_87552652_4dde_11eb_9ca1_0242ac130202row0_col5\" class=\"data row0 col5\" >-0.001657</td>\n",
       "                        <td id=\"T_87552652_4dde_11eb_9ca1_0242ac130202row0_col6\" class=\"data row0 col6\" >0.012703</td>\n",
       "                        <td id=\"T_87552652_4dde_11eb_9ca1_0242ac130202row0_col7\" class=\"data row0 col7\" >-0.040258</td>\n",
       "            </tr>\n",
       "            <tr>\n",
       "                        <th id=\"T_87552652_4dde_11eb_9ca1_0242ac130202level0_row1\" class=\"row_heading level0 row1\" >Survived</th>\n",
       "                        <td id=\"T_87552652_4dde_11eb_9ca1_0242ac130202row1_col0\" class=\"data row1 col0\" >-0.005028</td>\n",
       "                        <td id=\"T_87552652_4dde_11eb_9ca1_0242ac130202row1_col1\" class=\"data row1 col1\" >1.000000</td>\n",
       "                        <td id=\"T_87552652_4dde_11eb_9ca1_0242ac130202row1_col2\" class=\"data row1 col2\" >-0.335549</td>\n",
       "                        <td id=\"T_87552652_4dde_11eb_9ca1_0242ac130202row1_col3\" class=\"data row1 col3\" >-0.074513</td>\n",
       "                        <td id=\"T_87552652_4dde_11eb_9ca1_0242ac130202row1_col4\" class=\"data row1 col4\" >-0.034040</td>\n",
       "                        <td id=\"T_87552652_4dde_11eb_9ca1_0242ac130202row1_col5\" class=\"data row1 col5\" >0.083151</td>\n",
       "                        <td id=\"T_87552652_4dde_11eb_9ca1_0242ac130202row1_col6\" class=\"data row1 col6\" >0.255290</td>\n",
       "                        <td id=\"T_87552652_4dde_11eb_9ca1_0242ac130202row1_col7\" class=\"data row1 col7\" >0.018277</td>\n",
       "            </tr>\n",
       "            <tr>\n",
       "                        <th id=\"T_87552652_4dde_11eb_9ca1_0242ac130202level0_row2\" class=\"row_heading level0 row2\" >Pclass</th>\n",
       "                        <td id=\"T_87552652_4dde_11eb_9ca1_0242ac130202row2_col0\" class=\"data row2 col0\" >-0.035330</td>\n",
       "                        <td id=\"T_87552652_4dde_11eb_9ca1_0242ac130202row2_col1\" class=\"data row2 col1\" >-0.335549</td>\n",
       "                        <td id=\"T_87552652_4dde_11eb_9ca1_0242ac130202row2_col2\" class=\"data row2 col2\" >1.000000</td>\n",
       "                        <td id=\"T_87552652_4dde_11eb_9ca1_0242ac130202row2_col3\" class=\"data row2 col3\" >-0.328256</td>\n",
       "                        <td id=\"T_87552652_4dde_11eb_9ca1_0242ac130202row2_col4\" class=\"data row2 col4\" >0.081656</td>\n",
       "                        <td id=\"T_87552652_4dde_11eb_9ca1_0242ac130202row2_col5\" class=\"data row2 col5\" >0.016824</td>\n",
       "                        <td id=\"T_87552652_4dde_11eb_9ca1_0242ac130202row2_col6\" class=\"data row2 col6\" >-0.548193</td>\n",
       "                        <td id=\"T_87552652_4dde_11eb_9ca1_0242ac130202row2_col7\" class=\"data row2 col7\" >0.064221</td>\n",
       "            </tr>\n",
       "            <tr>\n",
       "                        <th id=\"T_87552652_4dde_11eb_9ca1_0242ac130202level0_row3\" class=\"row_heading level0 row3\" >Age</th>\n",
       "                        <td id=\"T_87552652_4dde_11eb_9ca1_0242ac130202row3_col0\" class=\"data row3 col0\" >0.030335</td>\n",
       "                        <td id=\"T_87552652_4dde_11eb_9ca1_0242ac130202row3_col1\" class=\"data row3 col1\" >-0.074513</td>\n",
       "                        <td id=\"T_87552652_4dde_11eb_9ca1_0242ac130202row3_col2\" class=\"data row3 col2\" >-0.328256</td>\n",
       "                        <td id=\"T_87552652_4dde_11eb_9ca1_0242ac130202row3_col3\" class=\"data row3 col3\" >1.000000</td>\n",
       "                        <td id=\"T_87552652_4dde_11eb_9ca1_0242ac130202row3_col4\" class=\"data row3 col4\" >-0.231908</td>\n",
       "                        <td id=\"T_87552652_4dde_11eb_9ca1_0242ac130202row3_col5\" class=\"data row3 col5\" >-0.178013</td>\n",
       "                        <td id=\"T_87552652_4dde_11eb_9ca1_0242ac130202row3_col6\" class=\"data row3 col6\" >0.088780</td>\n",
       "                        <td id=\"T_87552652_4dde_11eb_9ca1_0242ac130202row3_col7\" class=\"data row3 col7\" >-0.247459</td>\n",
       "            </tr>\n",
       "            <tr>\n",
       "                        <th id=\"T_87552652_4dde_11eb_9ca1_0242ac130202level0_row4\" class=\"row_heading level0 row4\" >SibSp</th>\n",
       "                        <td id=\"T_87552652_4dde_11eb_9ca1_0242ac130202row4_col0\" class=\"data row4 col0\" >-0.057686</td>\n",
       "                        <td id=\"T_87552652_4dde_11eb_9ca1_0242ac130202row4_col1\" class=\"data row4 col1\" >-0.034040</td>\n",
       "                        <td id=\"T_87552652_4dde_11eb_9ca1_0242ac130202row4_col2\" class=\"data row4 col2\" >0.081656</td>\n",
       "                        <td id=\"T_87552652_4dde_11eb_9ca1_0242ac130202row4_col3\" class=\"data row4 col3\" >-0.231908</td>\n",
       "                        <td id=\"T_87552652_4dde_11eb_9ca1_0242ac130202row4_col4\" class=\"data row4 col4\" >1.000000</td>\n",
       "                        <td id=\"T_87552652_4dde_11eb_9ca1_0242ac130202row4_col5\" class=\"data row4 col5\" >0.414542</td>\n",
       "                        <td id=\"T_87552652_4dde_11eb_9ca1_0242ac130202row4_col6\" class=\"data row4 col6\" >0.160887</td>\n",
       "                        <td id=\"T_87552652_4dde_11eb_9ca1_0242ac130202row4_col7\" class=\"data row4 col7\" >0.890654</td>\n",
       "            </tr>\n",
       "            <tr>\n",
       "                        <th id=\"T_87552652_4dde_11eb_9ca1_0242ac130202level0_row5\" class=\"row_heading level0 row5\" >Parch</th>\n",
       "                        <td id=\"T_87552652_4dde_11eb_9ca1_0242ac130202row5_col0\" class=\"data row5 col0\" >-0.001657</td>\n",
       "                        <td id=\"T_87552652_4dde_11eb_9ca1_0242ac130202row5_col1\" class=\"data row5 col1\" >0.083151</td>\n",
       "                        <td id=\"T_87552652_4dde_11eb_9ca1_0242ac130202row5_col2\" class=\"data row5 col2\" >0.016824</td>\n",
       "                        <td id=\"T_87552652_4dde_11eb_9ca1_0242ac130202row5_col3\" class=\"data row5 col3\" >-0.178013</td>\n",
       "                        <td id=\"T_87552652_4dde_11eb_9ca1_0242ac130202row5_col4\" class=\"data row5 col4\" >0.414542</td>\n",
       "                        <td id=\"T_87552652_4dde_11eb_9ca1_0242ac130202row5_col5\" class=\"data row5 col5\" >1.000000</td>\n",
       "                        <td id=\"T_87552652_4dde_11eb_9ca1_0242ac130202row5_col6\" class=\"data row5 col6\" >0.217532</td>\n",
       "                        <td id=\"T_87552652_4dde_11eb_9ca1_0242ac130202row5_col7\" class=\"data row5 col7\" >0.782988</td>\n",
       "            </tr>\n",
       "            <tr>\n",
       "                        <th id=\"T_87552652_4dde_11eb_9ca1_0242ac130202level0_row6\" class=\"row_heading level0 row6\" >Fare</th>\n",
       "                        <td id=\"T_87552652_4dde_11eb_9ca1_0242ac130202row6_col0\" class=\"data row6 col0\" >0.012703</td>\n",
       "                        <td id=\"T_87552652_4dde_11eb_9ca1_0242ac130202row6_col1\" class=\"data row6 col1\" >0.255290</td>\n",
       "                        <td id=\"T_87552652_4dde_11eb_9ca1_0242ac130202row6_col2\" class=\"data row6 col2\" >-0.548193</td>\n",
       "                        <td id=\"T_87552652_4dde_11eb_9ca1_0242ac130202row6_col3\" class=\"data row6 col3\" >0.088780</td>\n",
       "                        <td id=\"T_87552652_4dde_11eb_9ca1_0242ac130202row6_col4\" class=\"data row6 col4\" >0.160887</td>\n",
       "                        <td id=\"T_87552652_4dde_11eb_9ca1_0242ac130202row6_col5\" class=\"data row6 col5\" >0.217532</td>\n",
       "                        <td id=\"T_87552652_4dde_11eb_9ca1_0242ac130202row6_col6\" class=\"data row6 col6\" >1.000000</td>\n",
       "                        <td id=\"T_87552652_4dde_11eb_9ca1_0242ac130202row6_col7\" class=\"data row6 col7\" >0.218658</td>\n",
       "            </tr>\n",
       "            <tr>\n",
       "                        <th id=\"T_87552652_4dde_11eb_9ca1_0242ac130202level0_row7\" class=\"row_heading level0 row7\" >RelativeCount</th>\n",
       "                        <td id=\"T_87552652_4dde_11eb_9ca1_0242ac130202row7_col0\" class=\"data row7 col0\" >-0.040258</td>\n",
       "                        <td id=\"T_87552652_4dde_11eb_9ca1_0242ac130202row7_col1\" class=\"data row7 col1\" >0.018277</td>\n",
       "                        <td id=\"T_87552652_4dde_11eb_9ca1_0242ac130202row7_col2\" class=\"data row7 col2\" >0.064221</td>\n",
       "                        <td id=\"T_87552652_4dde_11eb_9ca1_0242ac130202row7_col3\" class=\"data row7 col3\" >-0.247459</td>\n",
       "                        <td id=\"T_87552652_4dde_11eb_9ca1_0242ac130202row7_col4\" class=\"data row7 col4\" >0.890654</td>\n",
       "                        <td id=\"T_87552652_4dde_11eb_9ca1_0242ac130202row7_col5\" class=\"data row7 col5\" >0.782988</td>\n",
       "                        <td id=\"T_87552652_4dde_11eb_9ca1_0242ac130202row7_col6\" class=\"data row7 col6\" >0.218658</td>\n",
       "                        <td id=\"T_87552652_4dde_11eb_9ca1_0242ac130202row7_col7\" class=\"data row7 col7\" >1.000000</td>\n",
       "            </tr>\n",
       "    </tbody></table>"
      ],
      "text/plain": [
       "<pandas.io.formats.style.Styler at 0x7f387ee21890>"
      ]
     },
     "execution_count": 17,
     "metadata": {},
     "output_type": "execute_result"
    }
   ],
   "source": [
    "corr=df_train.corr()\n",
    "\n",
    "corr.style.background_gradient(cmap='coolwarm')"
   ]
  },
  {
   "cell_type": "code",
   "execution_count": 18,
   "metadata": {
    "execution": {
     "iopub.execute_input": "2021-01-03T16:12:51.511123Z",
     "iopub.status.busy": "2021-01-03T16:12:51.510112Z",
     "iopub.status.idle": "2021-01-03T16:12:51.514000Z",
     "shell.execute_reply": "2021-01-03T16:12:51.514706Z"
    },
    "papermill": {
     "duration": 0.09586,
     "end_time": "2021-01-03T16:12:51.514891",
     "exception": false,
     "start_time": "2021-01-03T16:12:51.419031",
     "status": "completed"
    },
    "tags": []
   },
   "outputs": [
    {
     "data": {
      "text/html": [
       "<div>\n",
       "<style scoped>\n",
       "    .dataframe tbody tr th:only-of-type {\n",
       "        vertical-align: middle;\n",
       "    }\n",
       "\n",
       "    .dataframe tbody tr th {\n",
       "        vertical-align: top;\n",
       "    }\n",
       "\n",
       "    .dataframe thead th {\n",
       "        text-align: right;\n",
       "    }\n",
       "</style>\n",
       "<table border=\"1\" class=\"dataframe\">\n",
       "  <thead>\n",
       "    <tr style=\"text-align: right;\">\n",
       "      <th></th>\n",
       "      <th>PassengerId</th>\n",
       "      <th>Survived</th>\n",
       "      <th>Pclass</th>\n",
       "      <th>Name</th>\n",
       "      <th>Sex</th>\n",
       "      <th>Age</th>\n",
       "      <th>SibSp</th>\n",
       "      <th>Parch</th>\n",
       "      <th>Ticket</th>\n",
       "      <th>Fare</th>\n",
       "      <th>Cabin</th>\n",
       "      <th>Embarked</th>\n",
       "      <th>RelativeCount</th>\n",
       "    </tr>\n",
       "  </thead>\n",
       "  <tbody>\n",
       "    <tr>\n",
       "      <th>0</th>\n",
       "      <td>1</td>\n",
       "      <td>0</td>\n",
       "      <td>3</td>\n",
       "      <td>Braund, Mr. Owen Harris</td>\n",
       "      <td>male</td>\n",
       "      <td>22.0</td>\n",
       "      <td>1</td>\n",
       "      <td>0</td>\n",
       "      <td>A/5 21171</td>\n",
       "      <td>7.2500</td>\n",
       "      <td>G6</td>\n",
       "      <td>S</td>\n",
       "      <td>1</td>\n",
       "    </tr>\n",
       "    <tr>\n",
       "      <th>1</th>\n",
       "      <td>2</td>\n",
       "      <td>1</td>\n",
       "      <td>1</td>\n",
       "      <td>Cumings, Mrs. John Bradley (Florence Briggs Th...</td>\n",
       "      <td>female</td>\n",
       "      <td>38.0</td>\n",
       "      <td>1</td>\n",
       "      <td>0</td>\n",
       "      <td>PC 17599</td>\n",
       "      <td>71.2833</td>\n",
       "      <td>C85</td>\n",
       "      <td>C</td>\n",
       "      <td>1</td>\n",
       "    </tr>\n",
       "    <tr>\n",
       "      <th>2</th>\n",
       "      <td>3</td>\n",
       "      <td>1</td>\n",
       "      <td>3</td>\n",
       "      <td>Heikkinen, Miss. Laina</td>\n",
       "      <td>female</td>\n",
       "      <td>26.0</td>\n",
       "      <td>0</td>\n",
       "      <td>0</td>\n",
       "      <td>STON/O2. 3101282</td>\n",
       "      <td>7.9250</td>\n",
       "      <td>G6</td>\n",
       "      <td>S</td>\n",
       "      <td>0</td>\n",
       "    </tr>\n",
       "    <tr>\n",
       "      <th>3</th>\n",
       "      <td>4</td>\n",
       "      <td>1</td>\n",
       "      <td>1</td>\n",
       "      <td>Futrelle, Mrs. Jacques Heath (Lily May Peel)</td>\n",
       "      <td>female</td>\n",
       "      <td>35.0</td>\n",
       "      <td>1</td>\n",
       "      <td>0</td>\n",
       "      <td>113803</td>\n",
       "      <td>53.1000</td>\n",
       "      <td>C123</td>\n",
       "      <td>S</td>\n",
       "      <td>1</td>\n",
       "    </tr>\n",
       "    <tr>\n",
       "      <th>4</th>\n",
       "      <td>5</td>\n",
       "      <td>0</td>\n",
       "      <td>3</td>\n",
       "      <td>Allen, Mr. William Henry</td>\n",
       "      <td>male</td>\n",
       "      <td>35.0</td>\n",
       "      <td>0</td>\n",
       "      <td>0</td>\n",
       "      <td>373450</td>\n",
       "      <td>8.0500</td>\n",
       "      <td>G6</td>\n",
       "      <td>S</td>\n",
       "      <td>0</td>\n",
       "    </tr>\n",
       "    <tr>\n",
       "      <th>...</th>\n",
       "      <td>...</td>\n",
       "      <td>...</td>\n",
       "      <td>...</td>\n",
       "      <td>...</td>\n",
       "      <td>...</td>\n",
       "      <td>...</td>\n",
       "      <td>...</td>\n",
       "      <td>...</td>\n",
       "      <td>...</td>\n",
       "      <td>...</td>\n",
       "      <td>...</td>\n",
       "      <td>...</td>\n",
       "      <td>...</td>\n",
       "    </tr>\n",
       "    <tr>\n",
       "      <th>96</th>\n",
       "      <td>97</td>\n",
       "      <td>0</td>\n",
       "      <td>1</td>\n",
       "      <td>Goldschmidt, Mr. George B</td>\n",
       "      <td>male</td>\n",
       "      <td>71.0</td>\n",
       "      <td>0</td>\n",
       "      <td>0</td>\n",
       "      <td>PC 17754</td>\n",
       "      <td>34.6542</td>\n",
       "      <td>A5</td>\n",
       "      <td>C</td>\n",
       "      <td>0</td>\n",
       "    </tr>\n",
       "    <tr>\n",
       "      <th>97</th>\n",
       "      <td>98</td>\n",
       "      <td>1</td>\n",
       "      <td>1</td>\n",
       "      <td>Greenfield, Mr. William Bertram</td>\n",
       "      <td>male</td>\n",
       "      <td>23.0</td>\n",
       "      <td>0</td>\n",
       "      <td>1</td>\n",
       "      <td>PC 17759</td>\n",
       "      <td>63.3583</td>\n",
       "      <td>D10 D12</td>\n",
       "      <td>C</td>\n",
       "      <td>1</td>\n",
       "    </tr>\n",
       "    <tr>\n",
       "      <th>98</th>\n",
       "      <td>99</td>\n",
       "      <td>1</td>\n",
       "      <td>2</td>\n",
       "      <td>Doling, Mrs. John T (Ada Julia Bone)</td>\n",
       "      <td>female</td>\n",
       "      <td>34.0</td>\n",
       "      <td>0</td>\n",
       "      <td>1</td>\n",
       "      <td>231919</td>\n",
       "      <td>23.0000</td>\n",
       "      <td>G6</td>\n",
       "      <td>S</td>\n",
       "      <td>1</td>\n",
       "    </tr>\n",
       "    <tr>\n",
       "      <th>99</th>\n",
       "      <td>100</td>\n",
       "      <td>0</td>\n",
       "      <td>2</td>\n",
       "      <td>Kantor, Mr. Sinai</td>\n",
       "      <td>male</td>\n",
       "      <td>34.0</td>\n",
       "      <td>1</td>\n",
       "      <td>0</td>\n",
       "      <td>244367</td>\n",
       "      <td>26.0000</td>\n",
       "      <td>G6</td>\n",
       "      <td>S</td>\n",
       "      <td>1</td>\n",
       "    </tr>\n",
       "    <tr>\n",
       "      <th>100</th>\n",
       "      <td>101</td>\n",
       "      <td>0</td>\n",
       "      <td>3</td>\n",
       "      <td>Petranec, Miss. Matilda</td>\n",
       "      <td>female</td>\n",
       "      <td>28.0</td>\n",
       "      <td>0</td>\n",
       "      <td>0</td>\n",
       "      <td>349245</td>\n",
       "      <td>7.8958</td>\n",
       "      <td>G6</td>\n",
       "      <td>S</td>\n",
       "      <td>0</td>\n",
       "    </tr>\n",
       "  </tbody>\n",
       "</table>\n",
       "<p>100 rows × 13 columns</p>\n",
       "</div>"
      ],
      "text/plain": [
       "     PassengerId  Survived  Pclass  \\\n",
       "0              1         0       3   \n",
       "1              2         1       1   \n",
       "2              3         1       3   \n",
       "3              4         1       1   \n",
       "4              5         0       3   \n",
       "..           ...       ...     ...   \n",
       "96            97         0       1   \n",
       "97            98         1       1   \n",
       "98            99         1       2   \n",
       "99           100         0       2   \n",
       "100          101         0       3   \n",
       "\n",
       "                                                  Name     Sex   Age  SibSp  \\\n",
       "0                              Braund, Mr. Owen Harris    male  22.0      1   \n",
       "1    Cumings, Mrs. John Bradley (Florence Briggs Th...  female  38.0      1   \n",
       "2                               Heikkinen, Miss. Laina  female  26.0      0   \n",
       "3         Futrelle, Mrs. Jacques Heath (Lily May Peel)  female  35.0      1   \n",
       "4                             Allen, Mr. William Henry    male  35.0      0   \n",
       "..                                                 ...     ...   ...    ...   \n",
       "96                           Goldschmidt, Mr. George B    male  71.0      0   \n",
       "97                     Greenfield, Mr. William Bertram    male  23.0      0   \n",
       "98                Doling, Mrs. John T (Ada Julia Bone)  female  34.0      0   \n",
       "99                                   Kantor, Mr. Sinai    male  34.0      1   \n",
       "100                            Petranec, Miss. Matilda  female  28.0      0   \n",
       "\n",
       "     Parch            Ticket     Fare    Cabin Embarked  RelativeCount  \n",
       "0        0         A/5 21171   7.2500       G6        S              1  \n",
       "1        0          PC 17599  71.2833      C85        C              1  \n",
       "2        0  STON/O2. 3101282   7.9250       G6        S              0  \n",
       "3        0            113803  53.1000     C123        S              1  \n",
       "4        0            373450   8.0500       G6        S              0  \n",
       "..     ...               ...      ...      ...      ...            ...  \n",
       "96       0          PC 17754  34.6542       A5        C              0  \n",
       "97       1          PC 17759  63.3583  D10 D12        C              1  \n",
       "98       1            231919  23.0000       G6        S              1  \n",
       "99       0            244367  26.0000       G6        S              1  \n",
       "100      0            349245   7.8958       G6        S              0  \n",
       "\n",
       "[100 rows x 13 columns]"
      ]
     },
     "execution_count": 18,
     "metadata": {},
     "output_type": "execute_result"
    }
   ],
   "source": [
    "df_train.head(100)"
   ]
  },
  {
   "cell_type": "code",
   "execution_count": 19,
   "metadata": {
    "execution": {
     "iopub.execute_input": "2021-01-03T16:12:51.669948Z",
     "iopub.status.busy": "2021-01-03T16:12:51.669107Z",
     "iopub.status.idle": "2021-01-03T16:12:52.040200Z",
     "shell.execute_reply": "2021-01-03T16:12:52.040926Z"
    },
    "papermill": {
     "duration": 0.449948,
     "end_time": "2021-01-03T16:12:52.041104",
     "exception": false,
     "start_time": "2021-01-03T16:12:51.591156",
     "status": "completed"
    },
    "tags": []
   },
   "outputs": [
    {
     "data": {
      "image/png": "[encoded data removed]",
      "text/plain": [
       "<Figure size 720x720 with 1 Axes>"
      ]
     },
     "metadata": {
      "needs_background": "light"
     },
     "output_type": "display_data"
    }
   ],
   "source": [
    "hist = df_train.hist(figsize=(10,10),column='RelativeCount')"
   ]
  },
  {
   "cell_type": "markdown",
   "metadata": {
    "papermill": {
     "duration": 0.075376,
     "end_time": "2021-01-03T16:12:52.193310",
     "exception": false,
     "start_time": "2021-01-03T16:12:52.117934",
     "status": "completed"
    },
    "tags": []
   },
   "source": [
    "**Was a passenger travelling alone?**\n",
    "\n",
    "numpy.where(): Return elements chosen from x or y depending on condition.\n",
    "https://docs.scipy.org/doc/numpy/reference/generated/numpy.where.html"
   ]
  },
  {
   "cell_type": "code",
   "execution_count": 20,
   "metadata": {
    "execution": {
     "iopub.execute_input": "2021-01-03T16:12:52.365093Z",
     "iopub.status.busy": "2021-01-03T16:12:52.364386Z",
     "iopub.status.idle": "2021-01-03T16:12:52.368554Z",
     "shell.execute_reply": "2021-01-03T16:12:52.369181Z"
    },
    "papermill": {
     "duration": 0.100048,
     "end_time": "2021-01-03T16:12:52.369314",
     "exception": false,
     "start_time": "2021-01-03T16:12:52.269266",
     "status": "completed"
    },
    "tags": []
   },
   "outputs": [
    {
     "data": {
      "text/html": [
       "<div>\n",
       "<style scoped>\n",
       "    .dataframe tbody tr th:only-of-type {\n",
       "        vertical-align: middle;\n",
       "    }\n",
       "\n",
       "    .dataframe tbody tr th {\n",
       "        vertical-align: top;\n",
       "    }\n",
       "\n",
       "    .dataframe thead th {\n",
       "        text-align: right;\n",
       "    }\n",
       "</style>\n",
       "<table border=\"1\" class=\"dataframe\">\n",
       "  <thead>\n",
       "    <tr style=\"text-align: right;\">\n",
       "      <th></th>\n",
       "      <th>PassengerId</th>\n",
       "      <th>Survived</th>\n",
       "      <th>Pclass</th>\n",
       "      <th>Name</th>\n",
       "      <th>Sex</th>\n",
       "      <th>Age</th>\n",
       "      <th>SibSp</th>\n",
       "      <th>Parch</th>\n",
       "      <th>Ticket</th>\n",
       "      <th>Fare</th>\n",
       "      <th>Cabin</th>\n",
       "      <th>Embarked</th>\n",
       "      <th>RelativeCount</th>\n",
       "      <th>TravelAlone</th>\n",
       "    </tr>\n",
       "  </thead>\n",
       "  <tbody>\n",
       "    <tr>\n",
       "      <th>0</th>\n",
       "      <td>1</td>\n",
       "      <td>0</td>\n",
       "      <td>3</td>\n",
       "      <td>Braund, Mr. Owen Harris</td>\n",
       "      <td>male</td>\n",
       "      <td>22.0</td>\n",
       "      <td>1</td>\n",
       "      <td>0</td>\n",
       "      <td>A/5 21171</td>\n",
       "      <td>7.2500</td>\n",
       "      <td>G6</td>\n",
       "      <td>S</td>\n",
       "      <td>1</td>\n",
       "      <td>No</td>\n",
       "    </tr>\n",
       "    <tr>\n",
       "      <th>1</th>\n",
       "      <td>2</td>\n",
       "      <td>1</td>\n",
       "      <td>1</td>\n",
       "      <td>Cumings, Mrs. John Bradley (Florence Briggs Th...</td>\n",
       "      <td>female</td>\n",
       "      <td>38.0</td>\n",
       "      <td>1</td>\n",
       "      <td>0</td>\n",
       "      <td>PC 17599</td>\n",
       "      <td>71.2833</td>\n",
       "      <td>C85</td>\n",
       "      <td>C</td>\n",
       "      <td>1</td>\n",
       "      <td>No</td>\n",
       "    </tr>\n",
       "    <tr>\n",
       "      <th>2</th>\n",
       "      <td>3</td>\n",
       "      <td>1</td>\n",
       "      <td>3</td>\n",
       "      <td>Heikkinen, Miss. Laina</td>\n",
       "      <td>female</td>\n",
       "      <td>26.0</td>\n",
       "      <td>0</td>\n",
       "      <td>0</td>\n",
       "      <td>STON/O2. 3101282</td>\n",
       "      <td>7.9250</td>\n",
       "      <td>G6</td>\n",
       "      <td>S</td>\n",
       "      <td>0</td>\n",
       "      <td>Yes</td>\n",
       "    </tr>\n",
       "    <tr>\n",
       "      <th>3</th>\n",
       "      <td>4</td>\n",
       "      <td>1</td>\n",
       "      <td>1</td>\n",
       "      <td>Futrelle, Mrs. Jacques Heath (Lily May Peel)</td>\n",
       "      <td>female</td>\n",
       "      <td>35.0</td>\n",
       "      <td>1</td>\n",
       "      <td>0</td>\n",
       "      <td>113803</td>\n",
       "      <td>53.1000</td>\n",
       "      <td>C123</td>\n",
       "      <td>S</td>\n",
       "      <td>1</td>\n",
       "      <td>No</td>\n",
       "    </tr>\n",
       "    <tr>\n",
       "      <th>4</th>\n",
       "      <td>5</td>\n",
       "      <td>0</td>\n",
       "      <td>3</td>\n",
       "      <td>Allen, Mr. William Henry</td>\n",
       "      <td>male</td>\n",
       "      <td>35.0</td>\n",
       "      <td>0</td>\n",
       "      <td>0</td>\n",
       "      <td>373450</td>\n",
       "      <td>8.0500</td>\n",
       "      <td>G6</td>\n",
       "      <td>S</td>\n",
       "      <td>0</td>\n",
       "      <td>Yes</td>\n",
       "    </tr>\n",
       "  </tbody>\n",
       "</table>\n",
       "</div>"
      ],
      "text/plain": [
       "   PassengerId  Survived  Pclass  \\\n",
       "0            1         0       3   \n",
       "1            2         1       1   \n",
       "2            3         1       3   \n",
       "3            4         1       1   \n",
       "4            5         0       3   \n",
       "\n",
       "                                                Name     Sex   Age  SibSp  \\\n",
       "0                            Braund, Mr. Owen Harris    male  22.0      1   \n",
       "1  Cumings, Mrs. John Bradley (Florence Briggs Th...  female  38.0      1   \n",
       "2                             Heikkinen, Miss. Laina  female  26.0      0   \n",
       "3       Futrelle, Mrs. Jacques Heath (Lily May Peel)  female  35.0      1   \n",
       "4                           Allen, Mr. William Henry    male  35.0      0   \n",
       "\n",
       "   Parch            Ticket     Fare Cabin Embarked  RelativeCount TravelAlone  \n",
       "0      0         A/5 21171   7.2500    G6        S              1          No  \n",
       "1      0          PC 17599  71.2833   C85        C              1          No  \n",
       "2      0  STON/O2. 3101282   7.9250    G6        S              0         Yes  \n",
       "3      0            113803  53.1000  C123        S              1          No  \n",
       "4      0            373450   8.0500    G6        S              0         Yes  "
      ]
     },
     "execution_count": 20,
     "metadata": {},
     "output_type": "execute_result"
    }
   ],
   "source": [
    "df_train['TravelAlone'] = np.where(df_train['SibSp']+df_train['Parch']>0, \"No\", \"Yes\")\n",
    "df_train.head()"
   ]
  },
  {
   "cell_type": "code",
   "execution_count": 21,
   "metadata": {
    "execution": {
     "iopub.execute_input": "2021-01-03T16:12:52.482914Z",
     "iopub.status.busy": "2021-01-03T16:12:52.482248Z",
     "iopub.status.idle": "2021-01-03T16:12:52.487209Z",
     "shell.execute_reply": "2021-01-03T16:12:52.486687Z"
    },
    "papermill": {
     "duration": 0.065388,
     "end_time": "2021-01-03T16:12:52.487318",
     "exception": false,
     "start_time": "2021-01-03T16:12:52.421930",
     "status": "completed"
    },
    "tags": []
   },
   "outputs": [
    {
     "data": {
      "text/plain": [
       "Yes    535\n",
       "No     354\n",
       "Name: TravelAlone, dtype: int64"
      ]
     },
     "execution_count": 21,
     "metadata": {},
     "output_type": "execute_result"
    }
   ],
   "source": [
    "df_train['TravelAlone'].value_counts()"
   ]
  },
  {
   "cell_type": "markdown",
   "metadata": {
    "papermill": {
     "duration": 0.05301,
     "end_time": "2021-01-03T16:12:52.593551",
     "exception": false,
     "start_time": "2021-01-03T16:12:52.540541",
     "status": "completed"
    },
    "tags": []
   },
   "source": [
    "See types of plots_documentations pandas"
   ]
  },
  {
   "cell_type": "code",
   "execution_count": 22,
   "metadata": {
    "execution": {
     "iopub.execute_input": "2021-01-03T16:12:52.728926Z",
     "iopub.status.busy": "2021-01-03T16:12:52.727454Z",
     "iopub.status.idle": "2021-01-03T16:12:52.818883Z",
     "shell.execute_reply": "2021-01-03T16:12:52.818164Z"
    },
    "papermill": {
     "duration": 0.172139,
     "end_time": "2021-01-03T16:12:52.819002",
     "exception": false,
     "start_time": "2021-01-03T16:12:52.646863",
     "status": "completed"
    },
    "tags": []
   },
   "outputs": [
    {
     "data": {
      "image/png": "[encoded data removed]",
      "text/plain": [
       "<Figure size 432x288 with 1 Axes>"
      ]
     },
     "metadata": {},
     "output_type": "display_data"
    }
   ],
   "source": [
    "#Since its too much data to visualize and understand, lets bucket the age as below\n",
    "#feature engineering FTW!\n",
    "def bucket_age(age):\n",
    "  if age < 15:\n",
    "    return \"<15\"\n",
    "  if age >= 15 and age < 30:\n",
    "    return \"15-30\"\n",
    "  if age >=30 and age < 45:\n",
    "    return \"30-45\"\n",
    "  if age>=45 and age < 60:\n",
    "    return \"45-60\"\n",
    "  return \">60\"\n",
    "\n",
    "df_train['AgeBucket'] = df_train['Age'].apply(bucket_age)\n",
    "\n",
    "#Visualize this with a pie chart\n",
    "pie = df_train['AgeBucket'].value_counts().plot(kind=\"pie\",title='AgeBucket Distribution',legend=True,autopct='%1.1f%%')"
   ]
  },
  {
   "cell_type": "markdown",
   "metadata": {
    "papermill": {
     "duration": 0.057431,
     "end_time": "2021-01-03T16:12:52.933954",
     "exception": false,
     "start_time": "2021-01-03T16:12:52.876523",
     "status": "completed"
    },
    "tags": []
   },
   "source": [
    "Box Plots\n",
    "A boxplot is a standardized way of displaying the distribution of data based on a five number summary (“minimum”, first quartile (Q1), median, third quartile (Q3), and “maximum”). It can tell you about your outliers and what their values are. It can also tell you if your data is symmetrical, how tightly your data is grouped, and if and how your data is skewed.\n",
    "\n",
    "\n",
    "Reference\n",
    "\n",
    "https://www.khanacademy.org/math/statistics-probability/summarizing-quantitative-data/box-whisker-plots/a/box-plot-review\n",
    "https://towardsdatascience.com/understanding-boxplots-5e2df7bcbd51"
   ]
  },
  {
   "cell_type": "code",
   "execution_count": 23,
   "metadata": {
    "execution": {
     "iopub.execute_input": "2021-01-03T16:12:53.049396Z",
     "iopub.status.busy": "2021-01-03T16:12:53.048765Z",
     "iopub.status.idle": "2021-01-03T16:12:53.052931Z",
     "shell.execute_reply": "2021-01-03T16:12:53.052352Z"
    },
    "papermill": {
     "duration": 0.063473,
     "end_time": "2021-01-03T16:12:53.053044",
     "exception": false,
     "start_time": "2021-01-03T16:12:52.989571",
     "status": "completed"
    },
    "tags": []
   },
   "outputs": [],
   "source": [
    "##### Box Plots\n",
    "\n",
    "#A boxplot is a standardized way of displaying the distribution of data based on a five number summary (“minimum”, first quartile (Q1), median, third quartile (Q3), and “maximum”). It can tell you about your outliers and what their values are. It can also tell you if your data is symmetrical, how tightly your data is grouped, and if and how your data is skewed.\n",
    "\n",
    "#![alt text](https://miro.medium.com/max/18000/1*2c21SkzJMf3frPXPAR_gZA.png)\n",
    "\n",
    "#Reference \n",
    "#- https://www.khanacademy.org/math/statistics-probability/summarizing-quantitative-data/box-whisker-plots/a/box-plot-review\n",
    "#- https://towardsdatascience.com/understanding-boxplots-5e2df7bcbd51\n"
   ]
  },
  {
   "cell_type": "markdown",
   "metadata": {
    "papermill": {
     "duration": 0.054299,
     "end_time": "2021-01-03T16:12:53.162041",
     "exception": false,
     "start_time": "2021-01-03T16:12:53.107742",
     "status": "completed"
    },
    "tags": []
   },
   "source": [
    "**Sex and Fare Relationship**"
   ]
  },
  {
   "cell_type": "code",
   "execution_count": 24,
   "metadata": {
    "execution": {
     "iopub.execute_input": "2021-01-03T16:12:53.278417Z",
     "iopub.status.busy": "2021-01-03T16:12:53.277659Z",
     "iopub.status.idle": "2021-01-03T16:12:53.503463Z",
     "shell.execute_reply": "2021-01-03T16:12:53.502815Z"
    },
    "papermill": {
     "duration": 0.287278,
     "end_time": "2021-01-03T16:12:53.503578",
     "exception": false,
     "start_time": "2021-01-03T16:12:53.216300",
     "status": "completed"
    },
    "tags": []
   },
   "outputs": [
    {
     "data": {
      "text/plain": [
       "<seaborn.axisgrid.FacetGrid at 0x7f38833ed990>"
      ]
     },
     "execution_count": 24,
     "metadata": {},
     "output_type": "execute_result"
    },
    {
     "data": {
      "image/png": "[encoded data removed]",
      "text/plain": [
       "<Figure size 360x360 with 1 Axes>"
      ]
     },
     "metadata": {
      "needs_background": "light"
     },
     "output_type": "display_data"
    }
   ],
   "source": [
    "sns.catplot(x=\"Sex\", y=\"Fare\", kind=\"box\", data=df_train)"
   ]
  },
  {
   "cell_type": "markdown",
   "metadata": {
    "papermill": {
     "duration": 0.054946,
     "end_time": "2021-01-03T16:12:53.621189",
     "exception": false,
     "start_time": "2021-01-03T16:12:53.566243",
     "status": "completed"
    },
    "tags": []
   },
   "source": [
    "How does the Pclass relate to the Survival rate?"
   ]
  },
  {
   "cell_type": "code",
   "execution_count": 25,
   "metadata": {
    "execution": {
     "iopub.execute_input": "2021-01-03T16:12:53.749280Z",
     "iopub.status.busy": "2021-01-03T16:12:53.743936Z",
     "iopub.status.idle": "2021-01-03T16:12:53.823418Z",
     "shell.execute_reply": "2021-01-03T16:12:53.823924Z"
    },
    "papermill": {
     "duration": 0.146998,
     "end_time": "2021-01-03T16:12:53.824079",
     "exception": false,
     "start_time": "2021-01-03T16:12:53.677081",
     "status": "completed"
    },
    "tags": []
   },
   "outputs": [
    {
     "data": {
      "image/png": "[encoded data removed]",
      "text/plain": [
       "<Figure size 432x288 with 1 Axes>"
      ]
     },
     "metadata": {},
     "output_type": "display_data"
    }
   ],
   "source": [
    "#Lets start off with a bar plot of the Pclass distribution\n",
    "pie = df_train['Pclass'].value_counts().plot(kind=\"pie\",title='PClass Distribution',legend=True,autopct='%1.1f%%')"
   ]
  },
  {
   "cell_type": "code",
   "execution_count": 26,
   "metadata": {
    "execution": {
     "iopub.execute_input": "2021-01-03T16:12:54.034557Z",
     "iopub.status.busy": "2021-01-03T16:12:54.031701Z",
     "iopub.status.idle": "2021-01-03T16:12:54.330567Z",
     "shell.execute_reply": "2021-01-03T16:12:54.329890Z"
    },
    "papermill": {
     "duration": 0.406435,
     "end_time": "2021-01-03T16:12:54.330682",
     "exception": false,
     "start_time": "2021-01-03T16:12:53.924247",
     "status": "completed"
    },
    "tags": []
   },
   "outputs": [
    {
     "data": {
      "text/plain": [
       "<seaborn.axisgrid.FacetGrid at 0x7f38883b6950>"
      ]
     },
     "execution_count": 26,
     "metadata": {},
     "output_type": "execute_result"
    },
    {
     "data": {
      "image/png": "[encoded data removed]",
      "text/plain": [
       "<Figure size 360x360 with 1 Axes>"
      ]
     },
     "metadata": {
      "needs_background": "light"
     },
     "output_type": "display_data"
    }
   ],
   "source": [
    "sns.catplot(x=\"RelativeCount\", y=\"AgeBucket\", kind=\"box\", data=df_train)"
   ]
  },
  {
   "cell_type": "code",
   "execution_count": 27,
   "metadata": {
    "execution": {
     "iopub.execute_input": "2021-01-03T16:12:54.457562Z",
     "iopub.status.busy": "2021-01-03T16:12:54.456432Z",
     "iopub.status.idle": "2021-01-03T16:12:54.752488Z",
     "shell.execute_reply": "2021-01-03T16:12:54.751647Z"
    },
    "papermill": {
     "duration": 0.362731,
     "end_time": "2021-01-03T16:12:54.752617",
     "exception": false,
     "start_time": "2021-01-03T16:12:54.389886",
     "status": "completed"
    },
    "tags": []
   },
   "outputs": [
    {
     "data": {
      "text/plain": [
       "<seaborn.axisgrid.FacetGrid at 0x7f388835fdd0>"
      ]
     },
     "execution_count": 27,
     "metadata": {},
     "output_type": "execute_result"
    },
    {
     "data": {
      "image/png": "[encoded data removed]",
      "text/plain": [
       "<Figure size 360x360 with 1 Axes>"
      ]
     },
     "metadata": {
      "needs_background": "light"
     },
     "output_type": "display_data"
    }
   ],
   "source": [
    "sns.catplot(x=\"RelativeCount\", y=\"Age\", kind=\"box\", data=df_train)\n"
   ]
  },
  {
   "cell_type": "code",
   "execution_count": 28,
   "metadata": {
    "execution": {
     "iopub.execute_input": "2021-01-03T16:12:54.935711Z",
     "iopub.status.busy": "2021-01-03T16:12:54.934790Z",
     "iopub.status.idle": "2021-01-03T16:12:54.939921Z",
     "shell.execute_reply": "2021-01-03T16:12:54.939217Z"
    },
    "papermill": {
     "duration": 0.101755,
     "end_time": "2021-01-03T16:12:54.940040",
     "exception": false,
     "start_time": "2021-01-03T16:12:54.838285",
     "status": "completed"
    },
    "tags": []
   },
   "outputs": [
    {
     "data": {
      "text/html": [
       "<div>\n",
       "<style scoped>\n",
       "    .dataframe tbody tr th:only-of-type {\n",
       "        vertical-align: middle;\n",
       "    }\n",
       "\n",
       "    .dataframe tbody tr th {\n",
       "        vertical-align: top;\n",
       "    }\n",
       "\n",
       "    .dataframe thead th {\n",
       "        text-align: right;\n",
       "    }\n",
       "</style>\n",
       "<table border=\"1\" class=\"dataframe\">\n",
       "  <thead>\n",
       "    <tr style=\"text-align: right;\">\n",
       "      <th></th>\n",
       "      <th>PassengerId</th>\n",
       "      <th>Survived</th>\n",
       "      <th>Pclass</th>\n",
       "      <th>Name</th>\n",
       "      <th>Sex</th>\n",
       "      <th>Age</th>\n",
       "      <th>SibSp</th>\n",
       "      <th>Parch</th>\n",
       "      <th>Ticket</th>\n",
       "      <th>Fare</th>\n",
       "      <th>Cabin</th>\n",
       "      <th>Embarked</th>\n",
       "      <th>RelativeCount</th>\n",
       "      <th>TravelAlone</th>\n",
       "      <th>AgeBucket</th>\n",
       "    </tr>\n",
       "  </thead>\n",
       "  <tbody>\n",
       "    <tr>\n",
       "      <th>0</th>\n",
       "      <td>1</td>\n",
       "      <td>0</td>\n",
       "      <td>3</td>\n",
       "      <td>Braund, Mr. Owen Harris</td>\n",
       "      <td>male</td>\n",
       "      <td>22.0</td>\n",
       "      <td>1</td>\n",
       "      <td>0</td>\n",
       "      <td>A/5 21171</td>\n",
       "      <td>7.2500</td>\n",
       "      <td>G6</td>\n",
       "      <td>S</td>\n",
       "      <td>1</td>\n",
       "      <td>No</td>\n",
       "      <td>15-30</td>\n",
       "    </tr>\n",
       "    <tr>\n",
       "      <th>1</th>\n",
       "      <td>2</td>\n",
       "      <td>1</td>\n",
       "      <td>1</td>\n",
       "      <td>Cumings, Mrs. John Bradley (Florence Briggs Th...</td>\n",
       "      <td>female</td>\n",
       "      <td>38.0</td>\n",
       "      <td>1</td>\n",
       "      <td>0</td>\n",
       "      <td>PC 17599</td>\n",
       "      <td>71.2833</td>\n",
       "      <td>C85</td>\n",
       "      <td>C</td>\n",
       "      <td>1</td>\n",
       "      <td>No</td>\n",
       "      <td>30-45</td>\n",
       "    </tr>\n",
       "    <tr>\n",
       "      <th>2</th>\n",
       "      <td>3</td>\n",
       "      <td>1</td>\n",
       "      <td>3</td>\n",
       "      <td>Heikkinen, Miss. Laina</td>\n",
       "      <td>female</td>\n",
       "      <td>26.0</td>\n",
       "      <td>0</td>\n",
       "      <td>0</td>\n",
       "      <td>STON/O2. 3101282</td>\n",
       "      <td>7.9250</td>\n",
       "      <td>G6</td>\n",
       "      <td>S</td>\n",
       "      <td>0</td>\n",
       "      <td>Yes</td>\n",
       "      <td>15-30</td>\n",
       "    </tr>\n",
       "    <tr>\n",
       "      <th>3</th>\n",
       "      <td>4</td>\n",
       "      <td>1</td>\n",
       "      <td>1</td>\n",
       "      <td>Futrelle, Mrs. Jacques Heath (Lily May Peel)</td>\n",
       "      <td>female</td>\n",
       "      <td>35.0</td>\n",
       "      <td>1</td>\n",
       "      <td>0</td>\n",
       "      <td>113803</td>\n",
       "      <td>53.1000</td>\n",
       "      <td>C123</td>\n",
       "      <td>S</td>\n",
       "      <td>1</td>\n",
       "      <td>No</td>\n",
       "      <td>30-45</td>\n",
       "    </tr>\n",
       "    <tr>\n",
       "      <th>4</th>\n",
       "      <td>5</td>\n",
       "      <td>0</td>\n",
       "      <td>3</td>\n",
       "      <td>Allen, Mr. William Henry</td>\n",
       "      <td>male</td>\n",
       "      <td>35.0</td>\n",
       "      <td>0</td>\n",
       "      <td>0</td>\n",
       "      <td>373450</td>\n",
       "      <td>8.0500</td>\n",
       "      <td>G6</td>\n",
       "      <td>S</td>\n",
       "      <td>0</td>\n",
       "      <td>Yes</td>\n",
       "      <td>30-45</td>\n",
       "    </tr>\n",
       "  </tbody>\n",
       "</table>\n",
       "</div>"
      ],
      "text/plain": [
       "   PassengerId  Survived  Pclass  \\\n",
       "0            1         0       3   \n",
       "1            2         1       1   \n",
       "2            3         1       3   \n",
       "3            4         1       1   \n",
       "4            5         0       3   \n",
       "\n",
       "                                                Name     Sex   Age  SibSp  \\\n",
       "0                            Braund, Mr. Owen Harris    male  22.0      1   \n",
       "1  Cumings, Mrs. John Bradley (Florence Briggs Th...  female  38.0      1   \n",
       "2                             Heikkinen, Miss. Laina  female  26.0      0   \n",
       "3       Futrelle, Mrs. Jacques Heath (Lily May Peel)  female  35.0      1   \n",
       "4                           Allen, Mr. William Henry    male  35.0      0   \n",
       "\n",
       "   Parch            Ticket     Fare Cabin Embarked  RelativeCount TravelAlone  \\\n",
       "0      0         A/5 21171   7.2500    G6        S              1          No   \n",
       "1      0          PC 17599  71.2833   C85        C              1          No   \n",
       "2      0  STON/O2. 3101282   7.9250    G6        S              0         Yes   \n",
       "3      0            113803  53.1000  C123        S              1          No   \n",
       "4      0            373450   8.0500    G6        S              0         Yes   \n",
       "\n",
       "  AgeBucket  \n",
       "0     15-30  \n",
       "1     30-45  \n",
       "2     15-30  \n",
       "3     30-45  \n",
       "4     30-45  "
      ]
     },
     "execution_count": 28,
     "metadata": {},
     "output_type": "execute_result"
    }
   ],
   "source": [
    "df_train.head(5)\n"
   ]
  },
  {
   "cell_type": "code",
   "execution_count": 29,
   "metadata": {
    "execution": {
     "iopub.execute_input": "2021-01-03T16:12:55.063334Z",
     "iopub.status.busy": "2021-01-03T16:12:55.062449Z",
     "iopub.status.idle": "2021-01-03T16:12:55.092260Z",
     "shell.execute_reply": "2021-01-03T16:12:55.092776Z"
    },
    "papermill": {
     "duration": 0.092872,
     "end_time": "2021-01-03T16:12:55.092917",
     "exception": false,
     "start_time": "2021-01-03T16:12:55.000045",
     "status": "completed"
    },
    "tags": []
   },
   "outputs": [
    {
     "data": {
      "text/html": [
       "<div>\n",
       "<style scoped>\n",
       "    .dataframe tbody tr th:only-of-type {\n",
       "        vertical-align: middle;\n",
       "    }\n",
       "\n",
       "    .dataframe tbody tr th {\n",
       "        vertical-align: top;\n",
       "    }\n",
       "\n",
       "    .dataframe thead th {\n",
       "        text-align: right;\n",
       "    }\n",
       "</style>\n",
       "<table border=\"1\" class=\"dataframe\">\n",
       "  <thead>\n",
       "    <tr style=\"text-align: right;\">\n",
       "      <th></th>\n",
       "      <th>PassengerId</th>\n",
       "      <th>Survived</th>\n",
       "      <th>Pclass</th>\n",
       "      <th>Name</th>\n",
       "      <th>Sex</th>\n",
       "      <th>Age</th>\n",
       "      <th>SibSp</th>\n",
       "      <th>Parch</th>\n",
       "      <th>Ticket</th>\n",
       "      <th>Fare</th>\n",
       "      <th>Cabin</th>\n",
       "      <th>Embarked</th>\n",
       "      <th>RelativeCount</th>\n",
       "      <th>TravelAlone</th>\n",
       "      <th>AgeBucket</th>\n",
       "    </tr>\n",
       "  </thead>\n",
       "  <tbody>\n",
       "    <tr>\n",
       "      <th>0</th>\n",
       "      <td>1</td>\n",
       "      <td>0</td>\n",
       "      <td>3</td>\n",
       "      <td>Braund, Mr. Owen Harris</td>\n",
       "      <td>male</td>\n",
       "      <td>22.000000</td>\n",
       "      <td>1</td>\n",
       "      <td>0</td>\n",
       "      <td>A/5 21171</td>\n",
       "      <td>7.2500</td>\n",
       "      <td>G6</td>\n",
       "      <td>S</td>\n",
       "      <td>1</td>\n",
       "      <td>No</td>\n",
       "      <td>15-30</td>\n",
       "    </tr>\n",
       "    <tr>\n",
       "      <th>1</th>\n",
       "      <td>2</td>\n",
       "      <td>1</td>\n",
       "      <td>1</td>\n",
       "      <td>Cumings, Mrs. John Bradley (Florence Briggs Th...</td>\n",
       "      <td>female</td>\n",
       "      <td>38.000000</td>\n",
       "      <td>1</td>\n",
       "      <td>0</td>\n",
       "      <td>PC 17599</td>\n",
       "      <td>71.2833</td>\n",
       "      <td>C85</td>\n",
       "      <td>C</td>\n",
       "      <td>1</td>\n",
       "      <td>No</td>\n",
       "      <td>30-45</td>\n",
       "    </tr>\n",
       "    <tr>\n",
       "      <th>2</th>\n",
       "      <td>3</td>\n",
       "      <td>1</td>\n",
       "      <td>3</td>\n",
       "      <td>Heikkinen, Miss. Laina</td>\n",
       "      <td>female</td>\n",
       "      <td>26.000000</td>\n",
       "      <td>0</td>\n",
       "      <td>0</td>\n",
       "      <td>STON/O2. 3101282</td>\n",
       "      <td>7.9250</td>\n",
       "      <td>G6</td>\n",
       "      <td>S</td>\n",
       "      <td>0</td>\n",
       "      <td>Yes</td>\n",
       "      <td>15-30</td>\n",
       "    </tr>\n",
       "    <tr>\n",
       "      <th>3</th>\n",
       "      <td>4</td>\n",
       "      <td>1</td>\n",
       "      <td>1</td>\n",
       "      <td>Futrelle, Mrs. Jacques Heath (Lily May Peel)</td>\n",
       "      <td>female</td>\n",
       "      <td>35.000000</td>\n",
       "      <td>1</td>\n",
       "      <td>0</td>\n",
       "      <td>113803</td>\n",
       "      <td>53.1000</td>\n",
       "      <td>C123</td>\n",
       "      <td>S</td>\n",
       "      <td>1</td>\n",
       "      <td>No</td>\n",
       "      <td>30-45</td>\n",
       "    </tr>\n",
       "    <tr>\n",
       "      <th>4</th>\n",
       "      <td>5</td>\n",
       "      <td>0</td>\n",
       "      <td>3</td>\n",
       "      <td>Allen, Mr. William Henry</td>\n",
       "      <td>male</td>\n",
       "      <td>35.000000</td>\n",
       "      <td>0</td>\n",
       "      <td>0</td>\n",
       "      <td>373450</td>\n",
       "      <td>8.0500</td>\n",
       "      <td>G6</td>\n",
       "      <td>S</td>\n",
       "      <td>0</td>\n",
       "      <td>Yes</td>\n",
       "      <td>30-45</td>\n",
       "    </tr>\n",
       "    <tr>\n",
       "      <th>5</th>\n",
       "      <td>6</td>\n",
       "      <td>0</td>\n",
       "      <td>3</td>\n",
       "      <td>Moran, Mr. James</td>\n",
       "      <td>male</td>\n",
       "      <td>29.642093</td>\n",
       "      <td>0</td>\n",
       "      <td>0</td>\n",
       "      <td>330877</td>\n",
       "      <td>8.4583</td>\n",
       "      <td>G6</td>\n",
       "      <td>Q</td>\n",
       "      <td>0</td>\n",
       "      <td>Yes</td>\n",
       "      <td>15-30</td>\n",
       "    </tr>\n",
       "    <tr>\n",
       "      <th>6</th>\n",
       "      <td>7</td>\n",
       "      <td>0</td>\n",
       "      <td>1</td>\n",
       "      <td>McCarthy, Mr. Timothy J</td>\n",
       "      <td>male</td>\n",
       "      <td>54.000000</td>\n",
       "      <td>0</td>\n",
       "      <td>0</td>\n",
       "      <td>17463</td>\n",
       "      <td>51.8625</td>\n",
       "      <td>E46</td>\n",
       "      <td>S</td>\n",
       "      <td>0</td>\n",
       "      <td>Yes</td>\n",
       "      <td>45-60</td>\n",
       "    </tr>\n",
       "    <tr>\n",
       "      <th>7</th>\n",
       "      <td>8</td>\n",
       "      <td>0</td>\n",
       "      <td>3</td>\n",
       "      <td>Palsson, Master. Gosta Leonard</td>\n",
       "      <td>male</td>\n",
       "      <td>2.000000</td>\n",
       "      <td>3</td>\n",
       "      <td>1</td>\n",
       "      <td>349909</td>\n",
       "      <td>21.0750</td>\n",
       "      <td>G6</td>\n",
       "      <td>S</td>\n",
       "      <td>4</td>\n",
       "      <td>No</td>\n",
       "      <td>&lt;15</td>\n",
       "    </tr>\n",
       "    <tr>\n",
       "      <th>8</th>\n",
       "      <td>9</td>\n",
       "      <td>1</td>\n",
       "      <td>3</td>\n",
       "      <td>Johnson, Mrs. Oscar W (Elisabeth Vilhelmina Berg)</td>\n",
       "      <td>female</td>\n",
       "      <td>27.000000</td>\n",
       "      <td>0</td>\n",
       "      <td>2</td>\n",
       "      <td>347742</td>\n",
       "      <td>11.1333</td>\n",
       "      <td>G6</td>\n",
       "      <td>S</td>\n",
       "      <td>2</td>\n",
       "      <td>No</td>\n",
       "      <td>15-30</td>\n",
       "    </tr>\n",
       "    <tr>\n",
       "      <th>9</th>\n",
       "      <td>10</td>\n",
       "      <td>1</td>\n",
       "      <td>2</td>\n",
       "      <td>Nasser, Mrs. Nicholas (Adele Achem)</td>\n",
       "      <td>female</td>\n",
       "      <td>14.000000</td>\n",
       "      <td>1</td>\n",
       "      <td>0</td>\n",
       "      <td>237736</td>\n",
       "      <td>30.0708</td>\n",
       "      <td>G6</td>\n",
       "      <td>C</td>\n",
       "      <td>1</td>\n",
       "      <td>No</td>\n",
       "      <td>&lt;15</td>\n",
       "    </tr>\n",
       "  </tbody>\n",
       "</table>\n",
       "</div>"
      ],
      "text/plain": [
       "   PassengerId  Survived  Pclass  \\\n",
       "0            1         0       3   \n",
       "1            2         1       1   \n",
       "2            3         1       3   \n",
       "3            4         1       1   \n",
       "4            5         0       3   \n",
       "5            6         0       3   \n",
       "6            7         0       1   \n",
       "7            8         0       3   \n",
       "8            9         1       3   \n",
       "9           10         1       2   \n",
       "\n",
       "                                                Name     Sex        Age  \\\n",
       "0                            Braund, Mr. Owen Harris    male  22.000000   \n",
       "1  Cumings, Mrs. John Bradley (Florence Briggs Th...  female  38.000000   \n",
       "2                             Heikkinen, Miss. Laina  female  26.000000   \n",
       "3       Futrelle, Mrs. Jacques Heath (Lily May Peel)  female  35.000000   \n",
       "4                           Allen, Mr. William Henry    male  35.000000   \n",
       "5                                   Moran, Mr. James    male  29.642093   \n",
       "6                            McCarthy, Mr. Timothy J    male  54.000000   \n",
       "7                     Palsson, Master. Gosta Leonard    male   2.000000   \n",
       "8  Johnson, Mrs. Oscar W (Elisabeth Vilhelmina Berg)  female  27.000000   \n",
       "9                Nasser, Mrs. Nicholas (Adele Achem)  female  14.000000   \n",
       "\n",
       "   SibSp  Parch            Ticket     Fare Cabin Embarked  RelativeCount  \\\n",
       "0      1      0         A/5 21171   7.2500    G6        S              1   \n",
       "1      1      0          PC 17599  71.2833   C85        C              1   \n",
       "2      0      0  STON/O2. 3101282   7.9250    G6        S              0   \n",
       "3      1      0            113803  53.1000  C123        S              1   \n",
       "4      0      0            373450   8.0500    G6        S              0   \n",
       "5      0      0            330877   8.4583    G6        Q              0   \n",
       "6      0      0             17463  51.8625   E46        S              0   \n",
       "7      3      1            349909  21.0750    G6        S              4   \n",
       "8      0      2            347742  11.1333    G6        S              2   \n",
       "9      1      0            237736  30.0708    G6        C              1   \n",
       "\n",
       "  TravelAlone AgeBucket  \n",
       "0          No     15-30  \n",
       "1          No     30-45  \n",
       "2         Yes     15-30  \n",
       "3          No     30-45  \n",
       "4         Yes     30-45  \n",
       "5         Yes     15-30  \n",
       "6         Yes     45-60  \n",
       "7          No       <15  \n",
       "8          No     15-30  \n",
       "9          No       <15  "
      ]
     },
     "execution_count": 29,
     "metadata": {},
     "output_type": "execute_result"
    }
   ],
   "source": [
    "df_train.head(10)\n"
   ]
  },
  {
   "cell_type": "code",
   "execution_count": 30,
   "metadata": {
    "execution": {
     "iopub.execute_input": "2021-01-03T16:12:55.218744Z",
     "iopub.status.busy": "2021-01-03T16:12:55.217899Z",
     "iopub.status.idle": "2021-01-03T16:12:55.552042Z",
     "shell.execute_reply": "2021-01-03T16:12:55.551311Z"
    },
    "papermill": {
     "duration": 0.398549,
     "end_time": "2021-01-03T16:12:55.552160",
     "exception": false,
     "start_time": "2021-01-03T16:12:55.153611",
     "status": "completed"
    },
    "tags": []
   },
   "outputs": [
    {
     "name": "stdout",
     "output_type": "stream",
     "text": [
      "   Name_Length  Survived\n",
      "0            1  0.428571\n",
      "1            2  0.293269\n",
      "2            3  0.530928\n",
      "3            4  0.783333\n",
      "4            5  1.000000\n",
      "5            6  1.000000\n"
     ]
    },
    {
     "data": {
      "text/plain": [
       "<matplotlib.axes._subplots.AxesSubplot at 0x7f38887c3e90>"
      ]
     },
     "execution_count": 30,
     "metadata": {},
     "output_type": "execute_result"
    },
    {
     "data": {
      "image/png": "[encoded data removed]",
      "text/plain": [
       "<Figure size 1080x432 with 1 Axes>"
      ]
     },
     "metadata": {
      "needs_background": "light"
     },
     "output_type": "display_data"
    }
   ],
   "source": [
    "# NAME\n",
    "\n",
    "# Name Length\n",
    "# I Can't really Explain why but name length has a clear pattern and seems to significantly improve the\n",
    "# result and hence I am obliged to use it in my Code\n",
    "df_train['Name_Length'] = df_train['Name'].apply(lambda x : len(x))\n",
    "df_train['Name_Length'] = ((df_train.Name_Length)/15).astype(np.int64)+1\n",
    "print(df_train[['Name_Length','Survived']].groupby(['Name_Length'], as_index = False).mean())\n",
    "plt.subplots(figsize=(15, 6))\n",
    "sns.barplot(data=df_train,x='Name_Length',y='Survived')\n"
   ]
  },
  {
   "cell_type": "code",
   "execution_count": 31,
   "metadata": {
    "execution": {
     "iopub.execute_input": "2021-01-03T16:12:55.690046Z",
     "iopub.status.busy": "2021-01-03T16:12:55.687865Z",
     "iopub.status.idle": "2021-01-03T16:12:56.194108Z",
     "shell.execute_reply": "2021-01-03T16:12:56.194891Z"
    },
    "papermill": {
     "duration": 0.579578,
     "end_time": "2021-01-03T16:12:56.195058",
     "exception": false,
     "start_time": "2021-01-03T16:12:55.615480",
     "status": "completed"
    },
    "tags": []
   },
   "outputs": [
    {
     "data": {
      "text/plain": [
       "<matplotlib.axes._subplots.AxesSubplot at 0x7f3880d78d10>"
      ]
     },
     "execution_count": 31,
     "metadata": {},
     "output_type": "execute_result"
    },
    {
     "data": {
      "image/png": "[encoded data removed]",
      "text/plain": [
       "<Figure size 1080x432 with 1 Axes>"
      ]
     },
     "metadata": {
      "needs_background": "light"
     },
     "output_type": "display_data"
    }
   ],
   "source": [
    "# You may now think that Name is a useless column but Name contains somethings very important,'Titles'\n",
    "# If You observe closely you will notice that all names have a Title, example : 'MR','Mrs','Cpt',etc\n",
    "\n",
    "# EXTRACTING TITLE FORM NAME\n",
    "title = df_train.Name.values\n",
    "import re\n",
    "for i in range(len(title)):\n",
    "    r = re.search(', ([A-Za-z ]*)',title[i])\n",
    "    title[i] = r.group(1)\n",
    "df_train.loc[:,'Name'] = title \n",
    "plt.subplots(figsize=(15, 6))\n",
    "sns.barplot(data=df_train,x='Name',y='Survived')\n",
    "# Hence from the figure below show that it may play an important role in the decision making process"
   ]
  },
  {
   "cell_type": "code",
   "execution_count": 32,
   "metadata": {
    "execution": {
     "iopub.execute_input": "2021-01-03T16:12:56.385006Z",
     "iopub.status.busy": "2021-01-03T16:12:56.384123Z",
     "iopub.status.idle": "2021-01-03T16:12:56.478439Z",
     "shell.execute_reply": "2021-01-03T16:12:56.479125Z"
    },
    "papermill": {
     "duration": 0.191604,
     "end_time": "2021-01-03T16:12:56.479296",
     "exception": false,
     "start_time": "2021-01-03T16:12:56.287692",
     "status": "completed"
    },
    "tags": []
   },
   "outputs": [],
   "source": [
    "# Now We have completed Phase 1 of the Code that is Preprocesing Infromation\n",
    "# the 2nd Phase of the code is to encode the data and and dropiing unwanted columns\n",
    "\n",
    "# Encoding String values to Numbers\n",
    "from sklearn.preprocessing import LabelEncoder\n",
    "\n",
    "#SEX\n",
    "lb_Sex = LabelEncoder()\n",
    "df_train['Sex'] = lb_Sex.fit_transform(df_train.Sex)\n",
    "\n",
    "#TravelAlone\n",
    "lb_TravelA = LabelEncoder()\n",
    "df_train['TravelAlone'] = lb_TravelA.fit_transform(df_train.TravelAlone)"
   ]
  },
  {
   "cell_type": "code",
   "execution_count": 33,
   "metadata": {
    "execution": {
     "iopub.execute_input": "2021-01-03T16:12:56.673798Z",
     "iopub.status.busy": "2021-01-03T16:12:56.672982Z",
     "iopub.status.idle": "2021-01-03T16:12:56.676383Z",
     "shell.execute_reply": "2021-01-03T16:12:56.675694Z"
    },
    "papermill": {
     "duration": 0.105661,
     "end_time": "2021-01-03T16:12:56.676513",
     "exception": false,
     "start_time": "2021-01-03T16:12:56.570852",
     "status": "completed"
    },
    "tags": []
   },
   "outputs": [],
   "source": [
    "\n",
    "#TITLE\n",
    "lb_Title = LabelEncoder()\n",
    "df_train['Name'] = lb_Title.fit_transform(df_train.Name)\n",
    "\n",
    "#AGE_B\n",
    "lb_AgeB = LabelEncoder()\n",
    "df_train['AgeBucket'] = lb_AgeB.fit_transform(df_train.AgeBucket)\n",
    "\n",
    "\n",
    "# DROPPING THE EXTRA COLUMNS\n",
    "df_train.drop(labels=['SibSp','Parch','Ticket','Fare','Age','PassengerId','Cabin',],axis=1,inplace=True)\n",
    "\n",
    "\n"
   ]
  },
  {
   "cell_type": "code",
   "execution_count": 34,
   "metadata": {
    "execution": {
     "iopub.execute_input": "2021-01-03T16:12:56.874164Z",
     "iopub.status.busy": "2021-01-03T16:12:56.873091Z",
     "iopub.status.idle": "2021-01-03T16:12:56.878155Z",
     "shell.execute_reply": "2021-01-03T16:12:56.878805Z"
    },
    "papermill": {
     "duration": 0.110382,
     "end_time": "2021-01-03T16:12:56.878967",
     "exception": false,
     "start_time": "2021-01-03T16:12:56.768585",
     "status": "completed"
    },
    "tags": []
   },
   "outputs": [
    {
     "data": {
      "text/html": [
       "<div>\n",
       "<style scoped>\n",
       "    .dataframe tbody tr th:only-of-type {\n",
       "        vertical-align: middle;\n",
       "    }\n",
       "\n",
       "    .dataframe tbody tr th {\n",
       "        vertical-align: top;\n",
       "    }\n",
       "\n",
       "    .dataframe thead th {\n",
       "        text-align: right;\n",
       "    }\n",
       "</style>\n",
       "<table border=\"1\" class=\"dataframe\">\n",
       "  <thead>\n",
       "    <tr style=\"text-align: right;\">\n",
       "      <th></th>\n",
       "      <th>Survived</th>\n",
       "      <th>Pclass</th>\n",
       "      <th>Name</th>\n",
       "      <th>Sex</th>\n",
       "      <th>Embarked</th>\n",
       "      <th>RelativeCount</th>\n",
       "      <th>TravelAlone</th>\n",
       "      <th>AgeBucket</th>\n",
       "      <th>Name_Length</th>\n",
       "    </tr>\n",
       "  </thead>\n",
       "  <tbody>\n",
       "    <tr>\n",
       "      <th>0</th>\n",
       "      <td>0</td>\n",
       "      <td>3</td>\n",
       "      <td>11</td>\n",
       "      <td>1</td>\n",
       "      <td>S</td>\n",
       "      <td>1</td>\n",
       "      <td>0</td>\n",
       "      <td>0</td>\n",
       "      <td>2</td>\n",
       "    </tr>\n",
       "    <tr>\n",
       "      <th>1</th>\n",
       "      <td>1</td>\n",
       "      <td>1</td>\n",
       "      <td>12</td>\n",
       "      <td>0</td>\n",
       "      <td>C</td>\n",
       "      <td>1</td>\n",
       "      <td>0</td>\n",
       "      <td>1</td>\n",
       "      <td>4</td>\n",
       "    </tr>\n",
       "    <tr>\n",
       "      <th>2</th>\n",
       "      <td>1</td>\n",
       "      <td>3</td>\n",
       "      <td>8</td>\n",
       "      <td>0</td>\n",
       "      <td>S</td>\n",
       "      <td>0</td>\n",
       "      <td>1</td>\n",
       "      <td>0</td>\n",
       "      <td>2</td>\n",
       "    </tr>\n",
       "    <tr>\n",
       "      <th>3</th>\n",
       "      <td>1</td>\n",
       "      <td>1</td>\n",
       "      <td>12</td>\n",
       "      <td>0</td>\n",
       "      <td>S</td>\n",
       "      <td>1</td>\n",
       "      <td>0</td>\n",
       "      <td>1</td>\n",
       "      <td>3</td>\n",
       "    </tr>\n",
       "    <tr>\n",
       "      <th>4</th>\n",
       "      <td>0</td>\n",
       "      <td>3</td>\n",
       "      <td>11</td>\n",
       "      <td>1</td>\n",
       "      <td>S</td>\n",
       "      <td>0</td>\n",
       "      <td>1</td>\n",
       "      <td>1</td>\n",
       "      <td>2</td>\n",
       "    </tr>\n",
       "  </tbody>\n",
       "</table>\n",
       "</div>"
      ],
      "text/plain": [
       "   Survived  Pclass  Name  Sex Embarked  RelativeCount  TravelAlone  \\\n",
       "0         0       3    11    1        S              1            0   \n",
       "1         1       1    12    0        C              1            0   \n",
       "2         1       3     8    0        S              0            1   \n",
       "3         1       1    12    0        S              1            0   \n",
       "4         0       3    11    1        S              0            1   \n",
       "\n",
       "   AgeBucket  Name_Length  \n",
       "0          0            2  \n",
       "1          1            4  \n",
       "2          0            2  \n",
       "3          1            3  \n",
       "4          1            2  "
      ]
     },
     "execution_count": 34,
     "metadata": {},
     "output_type": "execute_result"
    }
   ],
   "source": [
    "df_train.head()\n"
   ]
  },
  {
   "cell_type": "code",
   "execution_count": 35,
   "metadata": {
    "execution": {
     "iopub.execute_input": "2021-01-03T16:12:57.090262Z",
     "iopub.status.busy": "2021-01-03T16:12:57.089291Z",
     "iopub.status.idle": "2021-01-03T16:12:57.093132Z",
     "shell.execute_reply": "2021-01-03T16:12:57.092235Z"
    },
    "papermill": {
     "duration": 0.105197,
     "end_time": "2021-01-03T16:12:57.093269",
     "exception": false,
     "start_time": "2021-01-03T16:12:56.988072",
     "status": "completed"
    },
    "tags": []
   },
   "outputs": [],
   "source": [
    "df_train.drop(labels=['Embarked'],axis=1,inplace=True)"
   ]
  },
  {
   "cell_type": "code",
   "execution_count": 36,
   "metadata": {
    "execution": {
     "iopub.execute_input": "2021-01-03T16:12:57.292811Z",
     "iopub.status.busy": "2021-01-03T16:12:57.292057Z",
     "iopub.status.idle": "2021-01-03T16:12:57.297433Z",
     "shell.execute_reply": "2021-01-03T16:12:57.296911Z"
    },
    "papermill": {
     "duration": 0.11102,
     "end_time": "2021-01-03T16:12:57.297548",
     "exception": false,
     "start_time": "2021-01-03T16:12:57.186528",
     "status": "completed"
    },
    "tags": []
   },
   "outputs": [
    {
     "data": {
      "text/html": [
       "<div>\n",
       "<style scoped>\n",
       "    .dataframe tbody tr th:only-of-type {\n",
       "        vertical-align: middle;\n",
       "    }\n",
       "\n",
       "    .dataframe tbody tr th {\n",
       "        vertical-align: top;\n",
       "    }\n",
       "\n",
       "    .dataframe thead th {\n",
       "        text-align: right;\n",
       "    }\n",
       "</style>\n",
       "<table border=\"1\" class=\"dataframe\">\n",
       "  <thead>\n",
       "    <tr style=\"text-align: right;\">\n",
       "      <th></th>\n",
       "      <th>Survived</th>\n",
       "      <th>Pclass</th>\n",
       "      <th>Name</th>\n",
       "      <th>Sex</th>\n",
       "      <th>RelativeCount</th>\n",
       "      <th>TravelAlone</th>\n",
       "      <th>AgeBucket</th>\n",
       "      <th>Name_Length</th>\n",
       "    </tr>\n",
       "  </thead>\n",
       "  <tbody>\n",
       "    <tr>\n",
       "      <th>0</th>\n",
       "      <td>0</td>\n",
       "      <td>3</td>\n",
       "      <td>11</td>\n",
       "      <td>1</td>\n",
       "      <td>1</td>\n",
       "      <td>0</td>\n",
       "      <td>0</td>\n",
       "      <td>2</td>\n",
       "    </tr>\n",
       "    <tr>\n",
       "      <th>1</th>\n",
       "      <td>1</td>\n",
       "      <td>1</td>\n",
       "      <td>12</td>\n",
       "      <td>0</td>\n",
       "      <td>1</td>\n",
       "      <td>0</td>\n",
       "      <td>1</td>\n",
       "      <td>4</td>\n",
       "    </tr>\n",
       "    <tr>\n",
       "      <th>2</th>\n",
       "      <td>1</td>\n",
       "      <td>3</td>\n",
       "      <td>8</td>\n",
       "      <td>0</td>\n",
       "      <td>0</td>\n",
       "      <td>1</td>\n",
       "      <td>0</td>\n",
       "      <td>2</td>\n",
       "    </tr>\n",
       "    <tr>\n",
       "      <th>3</th>\n",
       "      <td>1</td>\n",
       "      <td>1</td>\n",
       "      <td>12</td>\n",
       "      <td>0</td>\n",
       "      <td>1</td>\n",
       "      <td>0</td>\n",
       "      <td>1</td>\n",
       "      <td>3</td>\n",
       "    </tr>\n",
       "    <tr>\n",
       "      <th>4</th>\n",
       "      <td>0</td>\n",
       "      <td>3</td>\n",
       "      <td>11</td>\n",
       "      <td>1</td>\n",
       "      <td>0</td>\n",
       "      <td>1</td>\n",
       "      <td>1</td>\n",
       "      <td>2</td>\n",
       "    </tr>\n",
       "  </tbody>\n",
       "</table>\n",
       "</div>"
      ],
      "text/plain": [
       "   Survived  Pclass  Name  Sex  RelativeCount  TravelAlone  AgeBucket  \\\n",
       "0         0       3    11    1              1            0          0   \n",
       "1         1       1    12    0              1            0          1   \n",
       "2         1       3     8    0              0            1          0   \n",
       "3         1       1    12    0              1            0          1   \n",
       "4         0       3    11    1              0            1          1   \n",
       "\n",
       "   Name_Length  \n",
       "0            2  \n",
       "1            4  \n",
       "2            2  \n",
       "3            3  \n",
       "4            2  "
      ]
     },
     "execution_count": 36,
     "metadata": {},
     "output_type": "execute_result"
    }
   ],
   "source": [
    "df_train.head()\n"
   ]
  },
  {
   "cell_type": "code",
   "execution_count": 37,
   "metadata": {
    "execution": {
     "iopub.execute_input": "2021-01-03T16:12:57.438842Z",
     "iopub.status.busy": "2021-01-03T16:12:57.438083Z",
     "iopub.status.idle": "2021-01-03T16:12:57.444137Z",
     "shell.execute_reply": "2021-01-03T16:12:57.443475Z"
    },
    "papermill": {
     "duration": 0.081658,
     "end_time": "2021-01-03T16:12:57.444245",
     "exception": false,
     "start_time": "2021-01-03T16:12:57.362587",
     "status": "completed"
    },
    "tags": []
   },
   "outputs": [
    {
     "data": {
      "text/plain": [
       "0      False\n",
       "1      False\n",
       "2      False\n",
       "3      False\n",
       "4      False\n",
       "       ...  \n",
       "886    False\n",
       "887    False\n",
       "888    False\n",
       "889    False\n",
       "890    False\n",
       "Name: Survived, Length: 889, dtype: bool"
      ]
     },
     "execution_count": 37,
     "metadata": {},
     "output_type": "execute_result"
    }
   ],
   "source": [
    "df_train.Survived.isnull()"
   ]
  },
  {
   "cell_type": "code",
   "execution_count": 38,
   "metadata": {
    "execution": {
     "iopub.execute_input": "2021-01-03T16:12:57.587288Z",
     "iopub.status.busy": "2021-01-03T16:12:57.586607Z",
     "iopub.status.idle": "2021-01-03T16:12:57.589979Z",
     "shell.execute_reply": "2021-01-03T16:12:57.589367Z"
    },
    "papermill": {
     "duration": 0.07844,
     "end_time": "2021-01-03T16:12:57.590096",
     "exception": false,
     "start_time": "2021-01-03T16:12:57.511656",
     "status": "completed"
    },
    "tags": []
   },
   "outputs": [],
   "source": [
    "#RETREIVING THE TEST AND THE TRAIN SETS\n",
    "\n",
    "#df_test = df_train[df_train.Survived.isnull()]\n",
    "#df_train = df_train[df_train.Survived.notnull()]\n",
    "\n",
    "msk = np.random.rand(len(df_train)) <= 0.7\n",
    "\n",
    "\n",
    "df_test = df_train[~msk]\n",
    "df_train = df_train[msk]\n",
    "\n",
    "\n",
    "df_test = df_test.drop(['Survived'],axis=1)"
   ]
  },
  {
   "cell_type": "code",
   "execution_count": 39,
   "metadata": {
    "execution": {
     "iopub.execute_input": "2021-01-03T16:12:57.732047Z",
     "iopub.status.busy": "2021-01-03T16:12:57.731397Z",
     "iopub.status.idle": "2021-01-03T16:12:57.735279Z",
     "shell.execute_reply": "2021-01-03T16:12:57.734693Z"
    },
    "papermill": {
     "duration": 0.07811,
     "end_time": "2021-01-03T16:12:57.735393",
     "exception": false,
     "start_time": "2021-01-03T16:12:57.657283",
     "status": "completed"
    },
    "tags": []
   },
   "outputs": [],
   "source": [
    "#DIVIDING THE DATA INTO Y_TRAIN AND X_TRAIN AND CONVERTING THEM INTO NP ARRAYS\n",
    "y_train = df_train.loc[:,'Survived'].values\n",
    "x_train =df_train.drop(['Survived'],axis=1).values\n",
    "x_test = df_test.values"
   ]
  },
  {
   "cell_type": "code",
   "execution_count": 40,
   "metadata": {
    "execution": {
     "iopub.execute_input": "2021-01-03T16:12:57.877035Z",
     "iopub.status.busy": "2021-01-03T16:12:57.876421Z",
     "iopub.status.idle": "2021-01-03T16:12:57.880328Z",
     "shell.execute_reply": "2021-01-03T16:12:57.880896Z"
    },
    "papermill": {
     "duration": 0.074578,
     "end_time": "2021-01-03T16:12:57.881036",
     "exception": false,
     "start_time": "2021-01-03T16:12:57.806458",
     "status": "completed"
    },
    "tags": []
   },
   "outputs": [
    {
     "data": {
      "text/plain": [
       "array([[ 3, 11,  1, ...,  0,  0,  2],\n",
       "       [ 1, 12,  0, ...,  0,  1,  3],\n",
       "       [ 3, 11,  1, ...,  1,  1,  2],\n",
       "       ...,\n",
       "       [ 3, 11,  1, ...,  1,  0,  2],\n",
       "       [ 1,  8,  0, ...,  1,  0,  2],\n",
       "       [ 1, 11,  1, ...,  1,  0,  2]])"
      ]
     },
     "execution_count": 40,
     "metadata": {},
     "output_type": "execute_result"
    }
   ],
   "source": [
    "df_train.head()\n",
    "x_test"
   ]
  },
  {
   "cell_type": "code",
   "execution_count": 41,
   "metadata": {
    "execution": {
     "iopub.execute_input": "2021-01-03T16:12:58.057795Z",
     "iopub.status.busy": "2021-01-03T16:12:58.056911Z",
     "iopub.status.idle": "2021-01-03T16:12:58.061996Z",
     "shell.execute_reply": "2021-01-03T16:12:58.062468Z"
    },
    "papermill": {
     "duration": 0.100244,
     "end_time": "2021-01-03T16:12:58.062608",
     "exception": false,
     "start_time": "2021-01-03T16:12:57.962364",
     "status": "completed"
    },
    "tags": []
   },
   "outputs": [
    {
     "data": {
      "text/plain": [
       "array([[ 3, 11,  1, ...,  0,  0,  2],\n",
       "       [ 1, 12,  0, ...,  0,  1,  3],\n",
       "       [ 3, 11,  1, ...,  1,  1,  2],\n",
       "       ...,\n",
       "       [ 3, 11,  1, ...,  1,  0,  2],\n",
       "       [ 1,  8,  0, ...,  1,  0,  2],\n",
       "       [ 1, 11,  1, ...,  1,  0,  2]])"
      ]
     },
     "execution_count": 41,
     "metadata": {},
     "output_type": "execute_result"
    }
   ],
   "source": [
    "x_test"
   ]
  },
  {
   "cell_type": "code",
   "execution_count": 42,
   "metadata": {
    "execution": {
     "iopub.execute_input": "2021-01-03T16:12:58.199646Z",
     "iopub.status.busy": "2021-01-03T16:12:58.198768Z",
     "iopub.status.idle": "2021-01-03T16:12:58.205545Z",
     "shell.execute_reply": "2021-01-03T16:12:58.205049Z"
    },
    "papermill": {
     "duration": 0.07636,
     "end_time": "2021-01-03T16:12:58.205649",
     "exception": false,
     "start_time": "2021-01-03T16:12:58.129289",
     "status": "completed"
    },
    "tags": []
   },
   "outputs": [],
   "source": [
    "# Feature Scaling \n",
    "from sklearn.preprocessing import MinMaxScaler\n",
    "sc_x = MinMaxScaler((-1,1))\n",
    "x_train  = sc_x.fit_transform(x_train)\n",
    "x_test = sc_x.transform(x_test)\n"
   ]
  },
  {
   "cell_type": "code",
   "execution_count": 43,
   "metadata": {
    "execution": {
     "iopub.execute_input": "2021-01-03T16:12:58.351900Z",
     "iopub.status.busy": "2021-01-03T16:12:58.351223Z",
     "iopub.status.idle": "2021-01-03T16:12:58.412285Z",
     "shell.execute_reply": "2021-01-03T16:12:58.411663Z"
    },
    "papermill": {
     "duration": 0.139937,
     "end_time": "2021-01-03T16:12:58.412414",
     "exception": false,
     "start_time": "2021-01-03T16:12:58.272477",
     "status": "completed"
    },
    "tags": []
   },
   "outputs": [],
   "source": [
    "# Confusion Matrix\n",
    "from sklearn.metrics import confusion_matrix\n",
    "dict_K = {}\n",
    "dic = {}\n",
    "\n",
    "#Kfold Validation\n",
    "def get_acc(Xtrain,Ytrain,model):\n",
    "    from sklearn.model_selection import KFold\n",
    "    acc = []\n",
    "    k=KFold(n_splits=4)\n",
    "    for train , test in k.split(Xtrain,y=Ytrain):\n",
    "        x_train = Xtrain[train,:]\n",
    "        y_train = Ytrain[train]\n",
    "        x_test = Xtrain[test,:]\n",
    "        y_test = Ytrain[test]\n",
    "        model.fit(x_train,y_train)\n",
    "        y_pred = model.predict(x_test)\n",
    "        cm = confusion_matrix(y_true=y_test,y_pred=y_pred)\n",
    "        acc.append((cm[1,1]+cm[0,0])/((cm[1,0]+cm[0,1]+cm[1,1]+cm[0,0])+1e-5))\n",
    "    return acc"
   ]
  },
  {
   "cell_type": "code",
   "execution_count": 44,
   "metadata": {
    "execution": {
     "iopub.execute_input": "2021-01-03T16:12:58.563443Z",
     "iopub.status.busy": "2021-01-03T16:12:58.562003Z",
     "iopub.status.idle": "2021-01-03T16:12:58.573227Z",
     "shell.execute_reply": "2021-01-03T16:12:58.573778Z"
    },
    "papermill": {
     "duration": 0.091009,
     "end_time": "2021-01-03T16:12:58.573921",
     "exception": false,
     "start_time": "2021-01-03T16:12:58.482912",
     "status": "completed"
    },
    "tags": []
   },
   "outputs": [
    {
     "data": {
      "text/html": [
       "<div>\n",
       "<style scoped>\n",
       "    .dataframe tbody tr th:only-of-type {\n",
       "        vertical-align: middle;\n",
       "    }\n",
       "\n",
       "    .dataframe tbody tr th {\n",
       "        vertical-align: top;\n",
       "    }\n",
       "\n",
       "    .dataframe thead th {\n",
       "        text-align: right;\n",
       "    }\n",
       "</style>\n",
       "<table border=\"1\" class=\"dataframe\">\n",
       "  <thead>\n",
       "    <tr style=\"text-align: right;\">\n",
       "      <th></th>\n",
       "      <th>Survived</th>\n",
       "      <th>Pclass</th>\n",
       "      <th>Name</th>\n",
       "      <th>Sex</th>\n",
       "      <th>RelativeCount</th>\n",
       "      <th>TravelAlone</th>\n",
       "      <th>AgeBucket</th>\n",
       "      <th>Name_Length</th>\n",
       "    </tr>\n",
       "  </thead>\n",
       "  <tbody>\n",
       "    <tr>\n",
       "      <th>1</th>\n",
       "      <td>1</td>\n",
       "      <td>1</td>\n",
       "      <td>12</td>\n",
       "      <td>0</td>\n",
       "      <td>1</td>\n",
       "      <td>0</td>\n",
       "      <td>1</td>\n",
       "      <td>4</td>\n",
       "    </tr>\n",
       "    <tr>\n",
       "      <th>2</th>\n",
       "      <td>1</td>\n",
       "      <td>3</td>\n",
       "      <td>8</td>\n",
       "      <td>0</td>\n",
       "      <td>0</td>\n",
       "      <td>1</td>\n",
       "      <td>0</td>\n",
       "      <td>2</td>\n",
       "    </tr>\n",
       "    <tr>\n",
       "      <th>5</th>\n",
       "      <td>0</td>\n",
       "      <td>3</td>\n",
       "      <td>11</td>\n",
       "      <td>1</td>\n",
       "      <td>0</td>\n",
       "      <td>1</td>\n",
       "      <td>0</td>\n",
       "      <td>2</td>\n",
       "    </tr>\n",
       "    <tr>\n",
       "      <th>7</th>\n",
       "      <td>0</td>\n",
       "      <td>3</td>\n",
       "      <td>7</td>\n",
       "      <td>1</td>\n",
       "      <td>4</td>\n",
       "      <td>0</td>\n",
       "      <td>3</td>\n",
       "      <td>3</td>\n",
       "    </tr>\n",
       "    <tr>\n",
       "      <th>8</th>\n",
       "      <td>1</td>\n",
       "      <td>3</td>\n",
       "      <td>12</td>\n",
       "      <td>0</td>\n",
       "      <td>2</td>\n",
       "      <td>0</td>\n",
       "      <td>0</td>\n",
       "      <td>4</td>\n",
       "    </tr>\n",
       "  </tbody>\n",
       "</table>\n",
       "</div>"
      ],
      "text/plain": [
       "   Survived  Pclass  Name  Sex  RelativeCount  TravelAlone  AgeBucket  \\\n",
       "1         1       1    12    0              1            0          1   \n",
       "2         1       3     8    0              0            1          0   \n",
       "5         0       3    11    1              0            1          0   \n",
       "7         0       3     7    1              4            0          3   \n",
       "8         1       3    12    0              2            0          0   \n",
       "\n",
       "   Name_Length  \n",
       "1            4  \n",
       "2            2  \n",
       "5            2  \n",
       "7            3  \n",
       "8            4  "
      ]
     },
     "execution_count": 44,
     "metadata": {},
     "output_type": "execute_result"
    }
   ],
   "source": [
    "df_train.head()"
   ]
  },
  {
   "cell_type": "code",
   "execution_count": 45,
   "metadata": {
    "execution": {
     "iopub.execute_input": "2021-01-03T16:12:58.727535Z",
     "iopub.status.busy": "2021-01-03T16:12:58.726929Z",
     "iopub.status.idle": "2021-01-03T16:12:59.354101Z",
     "shell.execute_reply": "2021-01-03T16:12:59.353471Z"
    },
    "papermill": {
     "duration": 0.71155,
     "end_time": "2021-01-03T16:12:59.354215",
     "exception": false,
     "start_time": "2021-01-03T16:12:58.642665",
     "status": "completed"
    },
    "tags": []
   },
   "outputs": [],
   "source": [
    "from sklearn.ensemble import RandomForestClassifier\n",
    "classifier = RandomForestClassifier(n_estimators=25,criterion='entropy')\n",
    "dict_K['Random_forest'] = get_acc(x_train,y_train,classifier)\n",
    "classifier.fit(x_train, y_train)\n",
    "y_pred = classifier.predict(x_test)"
   ]
  },
  {
   "cell_type": "code",
   "execution_count": 46,
   "metadata": {
    "execution": {
     "iopub.execute_input": "2021-01-03T16:12:59.503407Z",
     "iopub.status.busy": "2021-01-03T16:12:59.502771Z",
     "iopub.status.idle": "2021-01-03T16:12:59.907690Z",
     "shell.execute_reply": "2021-01-03T16:12:59.907145Z"
    },
    "papermill": {
     "duration": 0.483673,
     "end_time": "2021-01-03T16:12:59.907830",
     "exception": false,
     "start_time": "2021-01-03T16:12:59.424157",
     "status": "completed"
    },
    "tags": []
   },
   "outputs": [],
   "source": [
    "# Preparing the CSV For Submition\n",
    "p = dataset_gd.PassengerId\n",
    "p = pd.concat([p,pd.DataFrame(y_pred.astype(np.int64),columns=['Survived'])],axis=1)\n",
    "p.to_csv('Tit_pred.csv',index=False)"
   ]
  }
 ],
 "metadata": {
  "kernelspec": {
   "display_name": "Python 3",
   "language": "python",
   "name": "python3"
  },
  "language_info": {
   "codemirror_mode": {
    "name": "ipython",
    "version": 3
   },
   "file_extension": ".py",
   "mimetype": "text/x-python",
   "name": "python",
   "nbconvert_exporter": "python",
   "pygments_lexer": "ipython3",
   "version": "3.7.6"
  },
  "papermill": {
   "duration": 32.851428,
   "end_time": "2021-01-03T16:13:00.087491",
   "environment_variables": {},
   "exception": null,
   "input_path": "__notebook__.ipynb",
   "output_path": "__notebook__.ipynb",
   "parameters": {},
   "start_time": "2021-01-03T16:12:27.236063",
   "version": "2.1.0"
  }
 },
 "nbformat": 4,
 "nbformat_minor": 4
}
